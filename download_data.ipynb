{
 "cells": [
  {
   "cell_type": "code",
   "execution_count": 1,
   "id": "f0dbe6fc",
   "metadata": {},
   "outputs": [],
   "source": [
    "import numpy as np\n",
    "import yaml"
   ]
  },
  {
   "cell_type": "code",
   "execution_count": 5,
   "id": "96d85a36",
   "metadata": {},
   "outputs": [],
   "source": [
    "tables = np.arange(1, 12, 1)"
   ]
  },
  {
   "cell_type": "code",
   "execution_count": 6,
   "id": "75fe4510",
   "metadata": {},
   "outputs": [],
   "source": [
    "def open_table(i):\n",
    "    hepdata_tables = \"./rawdata/HEPData-ins699123-v1-Table_\" + str(i) + \".yaml\"\n",
    "    with open(hepdata_tables, \"r\") as file:\n",
    "        input_data = yaml.safe_load(file)\n",
    "    return input_data"
   ]
  },
  {
   "cell_type": "code",
   "execution_count": 7,
   "id": "cd2fa34e",
   "metadata": {},
   "outputs": [],
   "source": [
    "for i in tables:\n",
    "    \n",
    "    input_data = open_table(i)\n",
    "    F_2_values = input_data[\"dependent_variables\"][0][\"values\"]\n",
    "    xF_3_values = input_data[\"dependent_variables\"][1][\"values\"]\n",
    "    Q2_values = input_data[\"independent_variables\"][0][\"values\"]\n",
    "    \n",
    "    x = float(input_data[\"dependent_variables\"][0][\"qualifiers\"][4][\"value\"])\n",
    "    Q2 = []\n",
    "    F_2 = []\n",
    "    xF_3 = []\n",
    "    F_2_err_stat = []\n",
    "    F_2_err_sys = []\n",
    "    xF_3_err_stat = []\n",
    "    xF_3_err_sys = []\n",
    "    \n",
    "    for value in F_2_values:\n",
    "        F_2.append(float(value[\"value\"]))\n",
    "        F_2_err_stat.append(float(value[\"errors\"][0][\"symerror\"]))\n",
    "        F_2_err_sys.append(float(value[\"errors\"][1][\"symerror\"]))\n",
    "    for value in xF_3_values:\n",
    "        xF_3.append(float(value[\"value\"]))\n",
    "        xF_3_err_stat.append(float(value[\"errors\"][0][\"symerror\"]))\n",
    "        xF_3_err_sys.append(float(value[\"errors\"][1][\"symerror\"]))\n",
    "    for value in Q2_values:\n",
    "        Q2.append(float(value[\"value\"]))\n",
    "    \n",
    "    file = open(f\"./data/DATA_CHORUS_{x}.yaml\", \"w\")\n",
    "    file.write(f\"x: {x}\\n\")\n",
    "    file.write(f\"Q2: {Q2}\\n\")\n",
    "    file.write(f\"F_2: {F_2}\\n\")\n",
    "    file.write(f\"F_2_err_stat: {F_2_err_stat}\\n\")\n",
    "    file.write(f\"F_2_err_sys: {F_2_err_sys}\\n\")\n",
    "    file.write(f\"xF_3: {xF_3}\\n\")\n",
    "    file.write(f\"xF_3_err_stat: {xF_3_err_stat}\\n\")\n",
    "    file.write(f\"xF_3_err_sys: {xF_3_err_sys}\\n\")\n",
    "    \n",
    "    file.close()"
   ]
  },
  {
   "cell_type": "code",
   "execution_count": null,
   "id": "f72d4b99",
   "metadata": {},
   "outputs": [],
   "source": []
  }
 ],
 "metadata": {
  "kernelspec": {
   "display_name": "nnpdf40",
   "language": "python",
   "name": "nnpdf40"
  },
  "language_info": {
   "codemirror_mode": {
    "name": "ipython",
    "version": 3
   },
   "file_extension": ".py",
   "mimetype": "text/x-python",
   "name": "python",
   "nbconvert_exporter": "python",
   "pygments_lexer": "ipython3",
   "version": "3.9.7"
  }
 },
 "nbformat": 4,
 "nbformat_minor": 5
}
