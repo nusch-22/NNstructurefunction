{
 "cells": [
  {
   "cell_type": "code",
   "execution_count": 1,
   "id": "76b44861-e80b-4e17-8b41-b8507c86d3ba",
   "metadata": {},
   "outputs": [],
   "source": [
    "import numpy as np\n",
    "import matplotlib.pyplot as plt\n",
    "import yaml\n",
    "import tensorflow as tf\n",
    "import tensorflow.keras.backend as K\n",
    "\n",
    "from tensorflow.keras import Sequential\n",
    "from tensorflow.keras.layers import Dense\n",
    "from tensorflow.keras.callbacks import Callback, EarlyStopping\n",
    "\n",
    "%matplotlib inline"
   ]
  },
  {
   "cell_type": "code",
   "execution_count": 2,
   "id": "69679c9b",
   "metadata": {},
   "outputs": [],
   "source": [
    "def create_replicas(x_data, x_err, n_rep = 100):\n",
    "    x_dist = np.zeros((n_rep, x_data.shape[0]))\n",
    "    for i, mean in enumerate(x_data):\n",
    "        x_dist[:,i] = np.random.normal(loc=mean, scale=x_err[i], size=n_rep)\n",
    "    return x_dist"
   ]
  },
  {
   "cell_type": "code",
   "execution_count": 3,
   "id": "95362c86",
   "metadata": {},
   "outputs": [],
   "source": [
    "def split_trval(x_data, y_data, y_sys, y_stat, perc = 0.3):\n",
    "    size_val = round(len(x_data)*perc)\n",
    "    idx = np.random.choice(np.arange(1, len(x_data)-1, 2), size_val, replace=False)\n",
    "    x_val = x_data[idx]\n",
    "    y_val = y_data[idx]\n",
    "    y_val_sys = y_sys[idx]\n",
    "    y_val_stat = y_stat[idx]\n",
    "    x_tr = np.delete(x_data, idx)\n",
    "    y_tr = np.delete(y_data, idx)\n",
    "    y_tr_sys = np.delete(y_sys, idx)\n",
    "    y_tr_stat = np.delete(y_stat, idx)\n",
    "\n",
    "    return x_tr, y_tr, x_val, y_val, y_tr_sys, y_tr_stat, y_val_sys, y_val_stat"
   ]
  },
  {
   "cell_type": "code",
   "execution_count": 4,
   "id": "fd85015b",
   "metadata": {},
   "outputs": [],
   "source": [
    "def load_data():\n",
    "    filename = \"./data/DATA_CHORUS_0.02.yaml\"\n",
    "    with open(filename, \"r\") as file:\n",
    "        input_data = yaml.safe_load(file)\n",
    "    x = input_data[\"x\"]\n",
    "    Q2 = np.array(input_data[\"Q2\"])\n",
    "    F_2 = np.array(input_data[\"F_2\"])\n",
    "    F_2_err_stat = np.array(input_data[\"F_2_err_stat\"])\n",
    "    F_2_err_sys = np.array(input_data[\"F_2_err_sys\"])\n",
    "    F_2_err = F_2_err_stat + F_2_err_sys\n",
    "    \n",
    "    Q2_tr, y_tr, Q2_val, y_val, y_tr_sys, y_tr_stat, y_val_sys, y_val_stat = split_trval(Q2, F_2, F_2_err_sys, F_2_err_stat)\n",
    "    \n",
    "    return {\"x\": x, \"Q2\": Q2, \"y\": F_2, \"y_stat\": F_2_err_stat, \"y_sys\": F_2_err_sys, \"Q2_tr\": Q2_tr, \"y_tr\": y_tr, \"Q2_val\": Q2_val, \"y_val\": y_val, \"y_tr_sys\": y_tr_sys, \"y_tr_stat\": y_tr_stat, \"y_val_sys\": y_val_sys, \"y_val_stat\": y_val_stat}"
   ]
  },
  {
   "cell_type": "code",
   "execution_count": 5,
   "id": "598cb851",
   "metadata": {},
   "outputs": [],
   "source": [
    "def compute_covmat(data_dict, data_set = \"\"):\n",
    "    data_set = \"y\" + data_set\n",
    "    ndata = data_dict[data_set].shape[0]\n",
    "    covmat = np.zeros((ndata, ndata))\n",
    "    for i in range(ndata):\n",
    "        for j in range(ndata):\n",
    "            covmat[i, j] = (\n",
    "                data_dict[data_set+\"_sys\"][i] * data_dict[data_set+\"_sys\"][j]\n",
    "                + data_dict[data_set][i] * data_dict[data_set][j]\n",
    "            )\n",
    "            if i == j:\n",
    "                covmat[i, j] += data_dict[data_set+\"_stat\"][i] ** 2\n",
    "    \n",
    "    return ndata, covmat"
   ]
  },
  {
   "cell_type": "code",
   "execution_count": 6,
   "id": "9b5313d9",
   "metadata": {},
   "outputs": [],
   "source": [
    "def get_covmat(y_data, y_sys, y_stat):\n",
    "    ndata = y_data.shape[0]\n",
    "    covmat = np.zeros((ndata, ndata))\n",
    "    for i in range(ndata):\n",
    "        for j in range(ndata):\n",
    "            covmat[i, j] = (\n",
    "                y_sys[i] * y_sys[j]\n",
    "                + y_data[i] * y_data[j]\n",
    "            )\n",
    "            if i == j:\n",
    "                covmat[i, j] += y_stat[i] ** 2\n",
    "    \n",
    "    return ndata, covmat"
   ]
  },
  {
   "cell_type": "code",
   "execution_count": 8,
   "id": "13628e49",
   "metadata": {},
   "outputs": [],
   "source": [
    "def chi2_with_covmat(covmat_tr, covmat_val, ndata_tr, ndata_val):\n",
    "    inverted_tr = np.linalg.inv(covmat_tr)\n",
    "    inverted_val = np.linalg.inv(covmat_val)\n",
    "    # Convert numpy array into tensorflow object\n",
    "    invcovmat_tr = K.constant(inverted_tr)\n",
    "    invcovmat_val = K.constant(inverted_val)\n",
    "\n",
    "    def costum_loss(y_true, y_pred):\n",
    "        \n",
    "        def custom_loss_tr(y_true, y_pred):\n",
    "            # (yt - yp) * covmat * (yt - yp)\n",
    "            tmp = y_true - y_pred\n",
    "\n",
    "            right_dot = tf.tensordot(invcovmat_tr, K.transpose(tmp), axes=[[1], [1]])\n",
    "            loss = tf.tensordot(tmp, right_dot, axes=[[0],[0]]) / ndata_tr\n",
    "            return loss\n",
    "\n",
    "        def custom_loss_val(y_true, y_pred):\n",
    "            # (yt - yp) * covmat * (yt - yp)\n",
    "            tmp = y_true - y_pred\n",
    "\n",
    "            right_dot = tf.tensordot(invcovmat_val, K.transpose(tmp), axes=[[1], [1]])\n",
    "            loss = tf.tensordot(tmp, right_dot, axes=[[0],[0]]) / ndata_val\n",
    "            return loss\n",
    "        \n",
    "        return K.in_train_phase(custom_loss_tr(y_true, y_pred), custom_loss_val(y_true, y_pred))\n",
    "        \n",
    "\n",
    "    return costum_loss"
   ]
  },
  {
   "cell_type": "code",
   "execution_count": 9,
   "id": "7915fc5e",
   "metadata": {},
   "outputs": [],
   "source": [
    "data_dict = load_data()"
   ]
  },
  {
   "cell_type": "code",
   "execution_count": 10,
   "id": "44edbcca-0105-44da-a9d0-947b4ff446ba",
   "metadata": {},
   "outputs": [
    {
     "name": "stdout",
     "output_type": "stream",
     "text": [
      "Model: \"sequential\"\n",
      "_________________________________________________________________\n",
      "Layer (type)                 Output Shape              Param #   \n",
      "=================================================================\n",
      "dense (Dense)                (None, 1)                 2         \n",
      "_________________________________________________________________\n",
      "dense_1 (Dense)              (None, 32)                64        \n",
      "_________________________________________________________________\n",
      "dense_2 (Dense)              (None, 32)                1056      \n",
      "_________________________________________________________________\n",
      "dense_3 (Dense)              (None, 1)                 33        \n",
      "=================================================================\n",
      "Total params: 1,155\n",
      "Trainable params: 1,155\n",
      "Non-trainable params: 0\n",
      "_________________________________________________________________\n"
     ]
    },
    {
     "name": "stderr",
     "output_type": "stream",
     "text": [
      "2022-04-26 14:33:47.087023: I tensorflow/compiler/jit/xla_cpu_device.cc:41] Not creating XLA devices, tf_xla_enable_xla_devices not set\n",
      "2022-04-26 14:33:47.087331: I tensorflow/core/platform/cpu_feature_guard.cc:142] This TensorFlow binary is optimized with oneAPI Deep Neural Network Library (oneDNN) to use the following CPU instructions in performance-critical operations:  SSE4.1 SSE4.2 AVX AVX2 FMA\n",
      "To enable them in other operations, rebuild TensorFlow with the appropriate compiler flags.\n"
     ]
    }
   ],
   "source": [
    "# Create the NN model\n",
    "model = Sequential()\n",
    "model.add(Dense(units = 1, activation = 'linear', input_shape=[1]))\n",
    "model.add(Dense(units = 32, activation = 'relu'))\n",
    "model.add(Dense(units = 32, activation = 'relu'))\n",
    "model.add(Dense(units = 1, activation = 'linear'))\n",
    "\n",
    "ndata_tr, covmat_tr = compute_covmat(data_dict, \"_tr\")\n",
    "ndata_val, covmat_val = compute_covmat(data_dict, \"_val\")\n",
    "model.compile(loss=chi2_with_covmat(covmat_tr, covmat_val, ndata_tr, ndata_val), optimizer=\"adam\", metrics=[\"accuracy\"])\n",
    "model.outputs[0]._uses_learning_phase = True\n",
    "\n",
    "# early stopping\n",
    "es = EarlyStopping(monitor='val_loss', mode='min', verbose=1, patience=50)\n",
    "\n",
    "# Display the model\n",
    "model.summary()"
   ]
  },
  {
   "cell_type": "code",
   "execution_count": 11,
   "id": "86bb4f15",
   "metadata": {},
   "outputs": [
    {
     "name": "stderr",
     "output_type": "stream",
     "text": [
      "2022-04-26 14:33:50.304824: I tensorflow/compiler/mlir/mlir_graph_optimization_pass.cc:116] None of the MLIR optimization passes are enabled (registered 2)\n",
      "2022-04-26 14:33:50.322999: I tensorflow/core/platform/profile_utils/cpu_utils.cc:112] CPU Frequency: 2400000000 Hz\n"
     ]
    },
    {
     "ename": "InvalidArgumentError",
     "evalue": " Matrix size-incompatible: In[0]: [2,2], In[1]: [4,1]\n\t [[node costum_loss/Tensordot_2/MatMul (defined at tmp/ipykernel_19167/855542857.py:22) ]] [Op:__inference_train_function_916]\n\nFunction call stack:\ntrain_function\n",
     "output_type": "error",
     "traceback": [
      "\u001b[0;31m---------------------------------------------------------------------------\u001b[0m",
      "\u001b[0;31mInvalidArgumentError\u001b[0m                      Traceback (most recent call last)",
      "\u001b[0;32m/tmp/ipykernel_19167/4290814280.py\u001b[0m in \u001b[0;36m<module>\u001b[0;34m\u001b[0m\n\u001b[0;32m----> 1\u001b[0;31m \u001b[0mmodel\u001b[0m\u001b[0;34m.\u001b[0m\u001b[0mfit\u001b[0m\u001b[0;34m(\u001b[0m\u001b[0mdata_dict\u001b[0m\u001b[0;34m[\u001b[0m\u001b[0;34m\"Q2_tr\"\u001b[0m\u001b[0;34m]\u001b[0m\u001b[0;34m,\u001b[0m \u001b[0mdata_dict\u001b[0m\u001b[0;34m[\u001b[0m\u001b[0;34m\"y_tr\"\u001b[0m\u001b[0;34m]\u001b[0m\u001b[0;34m,\u001b[0m \u001b[0mvalidation_data\u001b[0m\u001b[0;34m=\u001b[0m\u001b[0;34m(\u001b[0m\u001b[0mdata_dict\u001b[0m\u001b[0;34m[\u001b[0m\u001b[0;34m\"Q2_val\"\u001b[0m\u001b[0;34m]\u001b[0m\u001b[0;34m,\u001b[0m \u001b[0mdata_dict\u001b[0m\u001b[0;34m[\u001b[0m\u001b[0;34m\"y_val\"\u001b[0m\u001b[0;34m]\u001b[0m\u001b[0;34m)\u001b[0m\u001b[0;34m,\u001b[0m \u001b[0mepochs\u001b[0m\u001b[0;34m=\u001b[0m\u001b[0;36m100\u001b[0m\u001b[0;34m,\u001b[0m \u001b[0mverbose\u001b[0m\u001b[0;34m=\u001b[0m\u001b[0;36m0\u001b[0m\u001b[0;34m)\u001b[0m\u001b[0;34m\u001b[0m\u001b[0;34m\u001b[0m\u001b[0m\n\u001b[0m",
      "\u001b[0;32m~/anaconda3/envs/nnpdf40/lib/python3.9/site-packages/tensorflow/python/keras/engine/training.py\u001b[0m in \u001b[0;36mfit\u001b[0;34m(self, x, y, batch_size, epochs, verbose, callbacks, validation_split, validation_data, shuffle, class_weight, sample_weight, initial_epoch, steps_per_epoch, validation_steps, validation_batch_size, validation_freq, max_queue_size, workers, use_multiprocessing)\u001b[0m\n\u001b[1;32m   1098\u001b[0m                 _r=1):\n\u001b[1;32m   1099\u001b[0m               \u001b[0mcallbacks\u001b[0m\u001b[0;34m.\u001b[0m\u001b[0mon_train_batch_begin\u001b[0m\u001b[0;34m(\u001b[0m\u001b[0mstep\u001b[0m\u001b[0;34m)\u001b[0m\u001b[0;34m\u001b[0m\u001b[0;34m\u001b[0m\u001b[0m\n\u001b[0;32m-> 1100\u001b[0;31m               \u001b[0mtmp_logs\u001b[0m \u001b[0;34m=\u001b[0m \u001b[0mself\u001b[0m\u001b[0;34m.\u001b[0m\u001b[0mtrain_function\u001b[0m\u001b[0;34m(\u001b[0m\u001b[0miterator\u001b[0m\u001b[0;34m)\u001b[0m\u001b[0;34m\u001b[0m\u001b[0;34m\u001b[0m\u001b[0m\n\u001b[0m\u001b[1;32m   1101\u001b[0m               \u001b[0;32mif\u001b[0m \u001b[0mdata_handler\u001b[0m\u001b[0;34m.\u001b[0m\u001b[0mshould_sync\u001b[0m\u001b[0;34m:\u001b[0m\u001b[0;34m\u001b[0m\u001b[0;34m\u001b[0m\u001b[0m\n\u001b[1;32m   1102\u001b[0m                 \u001b[0mcontext\u001b[0m\u001b[0;34m.\u001b[0m\u001b[0masync_wait\u001b[0m\u001b[0;34m(\u001b[0m\u001b[0;34m)\u001b[0m\u001b[0;34m\u001b[0m\u001b[0;34m\u001b[0m\u001b[0m\n",
      "\u001b[0;32m~/anaconda3/envs/nnpdf40/lib/python3.9/site-packages/tensorflow/python/eager/def_function.py\u001b[0m in \u001b[0;36m__call__\u001b[0;34m(self, *args, **kwds)\u001b[0m\n\u001b[1;32m    826\u001b[0m     \u001b[0mtracing_count\u001b[0m \u001b[0;34m=\u001b[0m \u001b[0mself\u001b[0m\u001b[0;34m.\u001b[0m\u001b[0mexperimental_get_tracing_count\u001b[0m\u001b[0;34m(\u001b[0m\u001b[0;34m)\u001b[0m\u001b[0;34m\u001b[0m\u001b[0;34m\u001b[0m\u001b[0m\n\u001b[1;32m    827\u001b[0m     \u001b[0;32mwith\u001b[0m \u001b[0mtrace\u001b[0m\u001b[0;34m.\u001b[0m\u001b[0mTrace\u001b[0m\u001b[0;34m(\u001b[0m\u001b[0mself\u001b[0m\u001b[0;34m.\u001b[0m\u001b[0m_name\u001b[0m\u001b[0;34m)\u001b[0m \u001b[0;32mas\u001b[0m \u001b[0mtm\u001b[0m\u001b[0;34m:\u001b[0m\u001b[0;34m\u001b[0m\u001b[0;34m\u001b[0m\u001b[0m\n\u001b[0;32m--> 828\u001b[0;31m       \u001b[0mresult\u001b[0m \u001b[0;34m=\u001b[0m \u001b[0mself\u001b[0m\u001b[0;34m.\u001b[0m\u001b[0m_call\u001b[0m\u001b[0;34m(\u001b[0m\u001b[0;34m*\u001b[0m\u001b[0margs\u001b[0m\u001b[0;34m,\u001b[0m \u001b[0;34m**\u001b[0m\u001b[0mkwds\u001b[0m\u001b[0;34m)\u001b[0m\u001b[0;34m\u001b[0m\u001b[0;34m\u001b[0m\u001b[0m\n\u001b[0m\u001b[1;32m    829\u001b[0m       \u001b[0mcompiler\u001b[0m \u001b[0;34m=\u001b[0m \u001b[0;34m\"xla\"\u001b[0m \u001b[0;32mif\u001b[0m \u001b[0mself\u001b[0m\u001b[0;34m.\u001b[0m\u001b[0m_experimental_compile\u001b[0m \u001b[0;32melse\u001b[0m \u001b[0;34m\"nonXla\"\u001b[0m\u001b[0;34m\u001b[0m\u001b[0;34m\u001b[0m\u001b[0m\n\u001b[1;32m    830\u001b[0m       \u001b[0mnew_tracing_count\u001b[0m \u001b[0;34m=\u001b[0m \u001b[0mself\u001b[0m\u001b[0;34m.\u001b[0m\u001b[0mexperimental_get_tracing_count\u001b[0m\u001b[0;34m(\u001b[0m\u001b[0;34m)\u001b[0m\u001b[0;34m\u001b[0m\u001b[0;34m\u001b[0m\u001b[0m\n",
      "\u001b[0;32m~/anaconda3/envs/nnpdf40/lib/python3.9/site-packages/tensorflow/python/eager/def_function.py\u001b[0m in \u001b[0;36m_call\u001b[0;34m(self, *args, **kwds)\u001b[0m\n\u001b[1;32m    886\u001b[0m         \u001b[0;31m# Lifting succeeded, so variables are initialized and we can run the\u001b[0m\u001b[0;34m\u001b[0m\u001b[0;34m\u001b[0m\u001b[0m\n\u001b[1;32m    887\u001b[0m         \u001b[0;31m# stateless function.\u001b[0m\u001b[0;34m\u001b[0m\u001b[0;34m\u001b[0m\u001b[0m\n\u001b[0;32m--> 888\u001b[0;31m         \u001b[0;32mreturn\u001b[0m \u001b[0mself\u001b[0m\u001b[0;34m.\u001b[0m\u001b[0m_stateless_fn\u001b[0m\u001b[0;34m(\u001b[0m\u001b[0;34m*\u001b[0m\u001b[0margs\u001b[0m\u001b[0;34m,\u001b[0m \u001b[0;34m**\u001b[0m\u001b[0mkwds\u001b[0m\u001b[0;34m)\u001b[0m\u001b[0;34m\u001b[0m\u001b[0;34m\u001b[0m\u001b[0m\n\u001b[0m\u001b[1;32m    889\u001b[0m     \u001b[0;32melse\u001b[0m\u001b[0;34m:\u001b[0m\u001b[0;34m\u001b[0m\u001b[0;34m\u001b[0m\u001b[0m\n\u001b[1;32m    890\u001b[0m       \u001b[0m_\u001b[0m\u001b[0;34m,\u001b[0m \u001b[0m_\u001b[0m\u001b[0;34m,\u001b[0m \u001b[0m_\u001b[0m\u001b[0;34m,\u001b[0m \u001b[0mfiltered_flat_args\u001b[0m \u001b[0;34m=\u001b[0m\u001b[0;31m \u001b[0m\u001b[0;31m\\\u001b[0m\u001b[0;34m\u001b[0m\u001b[0;34m\u001b[0m\u001b[0m\n",
      "\u001b[0;32m~/anaconda3/envs/nnpdf40/lib/python3.9/site-packages/tensorflow/python/eager/function.py\u001b[0m in \u001b[0;36m__call__\u001b[0;34m(self, *args, **kwargs)\u001b[0m\n\u001b[1;32m   2940\u001b[0m       (graph_function,\n\u001b[1;32m   2941\u001b[0m        filtered_flat_args) = self._maybe_define_function(args, kwargs)\n\u001b[0;32m-> 2942\u001b[0;31m     return graph_function._call_flat(\n\u001b[0m\u001b[1;32m   2943\u001b[0m         filtered_flat_args, captured_inputs=graph_function.captured_inputs)  # pylint: disable=protected-access\n\u001b[1;32m   2944\u001b[0m \u001b[0;34m\u001b[0m\u001b[0m\n",
      "\u001b[0;32m~/anaconda3/envs/nnpdf40/lib/python3.9/site-packages/tensorflow/python/eager/function.py\u001b[0m in \u001b[0;36m_call_flat\u001b[0;34m(self, args, captured_inputs, cancellation_manager)\u001b[0m\n\u001b[1;32m   1916\u001b[0m         and executing_eagerly):\n\u001b[1;32m   1917\u001b[0m       \u001b[0;31m# No tape is watching; skip to running the function.\u001b[0m\u001b[0;34m\u001b[0m\u001b[0;34m\u001b[0m\u001b[0m\n\u001b[0;32m-> 1918\u001b[0;31m       return self._build_call_outputs(self._inference_function.call(\n\u001b[0m\u001b[1;32m   1919\u001b[0m           ctx, args, cancellation_manager=cancellation_manager))\n\u001b[1;32m   1920\u001b[0m     forward_backward = self._select_forward_and_backward_functions(\n",
      "\u001b[0;32m~/anaconda3/envs/nnpdf40/lib/python3.9/site-packages/tensorflow/python/eager/function.py\u001b[0m in \u001b[0;36mcall\u001b[0;34m(self, ctx, args, cancellation_manager)\u001b[0m\n\u001b[1;32m    553\u001b[0m       \u001b[0;32mwith\u001b[0m \u001b[0m_InterpolateFunctionError\u001b[0m\u001b[0;34m(\u001b[0m\u001b[0mself\u001b[0m\u001b[0;34m)\u001b[0m\u001b[0;34m:\u001b[0m\u001b[0;34m\u001b[0m\u001b[0;34m\u001b[0m\u001b[0m\n\u001b[1;32m    554\u001b[0m         \u001b[0;32mif\u001b[0m \u001b[0mcancellation_manager\u001b[0m \u001b[0;32mis\u001b[0m \u001b[0;32mNone\u001b[0m\u001b[0;34m:\u001b[0m\u001b[0;34m\u001b[0m\u001b[0;34m\u001b[0m\u001b[0m\n\u001b[0;32m--> 555\u001b[0;31m           outputs = execute.execute(\n\u001b[0m\u001b[1;32m    556\u001b[0m               \u001b[0mstr\u001b[0m\u001b[0;34m(\u001b[0m\u001b[0mself\u001b[0m\u001b[0;34m.\u001b[0m\u001b[0msignature\u001b[0m\u001b[0;34m.\u001b[0m\u001b[0mname\u001b[0m\u001b[0;34m)\u001b[0m\u001b[0;34m,\u001b[0m\u001b[0;34m\u001b[0m\u001b[0;34m\u001b[0m\u001b[0m\n\u001b[1;32m    557\u001b[0m               \u001b[0mnum_outputs\u001b[0m\u001b[0;34m=\u001b[0m\u001b[0mself\u001b[0m\u001b[0;34m.\u001b[0m\u001b[0m_num_outputs\u001b[0m\u001b[0;34m,\u001b[0m\u001b[0;34m\u001b[0m\u001b[0;34m\u001b[0m\u001b[0m\n",
      "\u001b[0;32m~/anaconda3/envs/nnpdf40/lib/python3.9/site-packages/tensorflow/python/eager/execute.py\u001b[0m in \u001b[0;36mquick_execute\u001b[0;34m(op_name, num_outputs, inputs, attrs, ctx, name)\u001b[0m\n\u001b[1;32m     57\u001b[0m   \u001b[0;32mtry\u001b[0m\u001b[0;34m:\u001b[0m\u001b[0;34m\u001b[0m\u001b[0;34m\u001b[0m\u001b[0m\n\u001b[1;32m     58\u001b[0m     \u001b[0mctx\u001b[0m\u001b[0;34m.\u001b[0m\u001b[0mensure_initialized\u001b[0m\u001b[0;34m(\u001b[0m\u001b[0;34m)\u001b[0m\u001b[0;34m\u001b[0m\u001b[0;34m\u001b[0m\u001b[0m\n\u001b[0;32m---> 59\u001b[0;31m     tensors = pywrap_tfe.TFE_Py_Execute(ctx._handle, device_name, op_name,\n\u001b[0m\u001b[1;32m     60\u001b[0m                                         inputs, attrs, num_outputs)\n\u001b[1;32m     61\u001b[0m   \u001b[0;32mexcept\u001b[0m \u001b[0mcore\u001b[0m\u001b[0;34m.\u001b[0m\u001b[0m_NotOkStatusException\u001b[0m \u001b[0;32mas\u001b[0m \u001b[0me\u001b[0m\u001b[0;34m:\u001b[0m\u001b[0;34m\u001b[0m\u001b[0;34m\u001b[0m\u001b[0m\n",
      "\u001b[0;31mInvalidArgumentError\u001b[0m:  Matrix size-incompatible: In[0]: [2,2], In[1]: [4,1]\n\t [[node costum_loss/Tensordot_2/MatMul (defined at tmp/ipykernel_19167/855542857.py:22) ]] [Op:__inference_train_function_916]\n\nFunction call stack:\ntrain_function\n"
     ]
    }
   ],
   "source": [
    "model.fit(data_dict[\"Q2_tr\"], data_dict[\"y_tr\"], validation_data=(data_dict[\"Q2_val\"], data_dict[\"y_val\"]), epochs=100, verbose=0)"
   ]
  },
  {
   "cell_type": "code",
   "execution_count": null,
   "id": "64b1222f",
   "metadata": {},
   "outputs": [],
   "source": [
    "data = np.array([1,2,3,4])\n",
    "y_true = K.constant([2,3])\n",
    "\n",
    "mask = []\n",
    "for y in y_true:\n",
    "    mask.append(np.where(y == data)[0][0])\n",
    "mask"
   ]
  },
  {
   "cell_type": "code",
   "execution_count": null,
   "id": "036f4188",
   "metadata": {},
   "outputs": [],
   "source": [
    "Q2_grid = np.linspace(data_dict[\"Q2\"][0], data_dict[\"Q2\"][-1], 100)\n",
    "y_pred = model.predict(Q2_grid)\n",
    "\n",
    "plt.plot(Q2_grid, y_pred)\n",
    "plt.scatter(data_dict[\"Q2\"], data_dict[\"y\"])"
   ]
  },
  {
   "cell_type": "code",
   "execution_count": null,
   "id": "606153cd",
   "metadata": {},
   "outputs": [],
   "source": [
    "# Loop over replicas\n",
    "n_rep = 10\n",
    "F_2_reps = create_replicas(F_2, F_2_err, n_rep = n_rep)\n",
    "x_pred = np.linspace(Q2[0], Q2[-1], num=100)\n",
    "y_pred = []\n",
    "\n",
    "for y_data in F_2_reps:\n",
    "    x_tr, y_tr, x_val, y_val = split_trval(Q2, y_data)\n",
    "    model.fit(x_tr, y_tr, validation_data=(x_val ,y_val), epochs=1000, batch_size=10, verbose=0, callbacks=[es])\n",
    "    \n",
    "    y_pred.append(model.predict(x_pred))"
   ]
  },
  {
   "cell_type": "code",
   "execution_count": null,
   "id": "acc4a70d-f2d6-4db0-b036-d55ada099d04",
   "metadata": {},
   "outputs": [],
   "source": [
    "p1_high = np.nanpercentile(y_pred,84,axis=0)\n",
    "p1_low = np.nanpercentile(y_pred,16,axis=0)\n",
    "p1_mid = (p1_high + p1_low )/2.\n",
    "p1_error = (p1_high - p1_low )/2.\n",
    "\n",
    "p1_mid = p1_mid.reshape(-1)\n",
    "p1_error = p1_error.reshape(-1)"
   ]
  },
  {
   "cell_type": "code",
   "execution_count": null,
   "id": "7031ff82",
   "metadata": {},
   "outputs": [],
   "source": [
    "plt.errorbar(Q2, F_2, yerr=F_2_err, label = \"Data\", fmt=\"ko\", capsize=5)\n",
    "plt.fill_between(x_pred, y1=p1_mid-p1_error, y2=p1_mid+p1_error, color=\"red\", edgecolor=\"red\", label=\"Prediction\", alpha=0.25)\n",
    "plt.plot(x_pred, p1_mid, color=\"red\", linestyle=\"dashed\")\n",
    "plt.legend()\n",
    "plt.xlabel(\"$Q^2$ [GeV$^2$]\")\n",
    "plt.ylabel(\"$F_2$\")\n",
    "plt.title(f\"Prediction of $F_2$ at $x={x}$\")"
   ]
  },
  {
   "cell_type": "code",
   "execution_count": null,
   "id": "f7fff487",
   "metadata": {},
   "outputs": [],
   "source": []
  }
 ],
 "metadata": {
  "kernelspec": {
   "display_name": "nnpdf40",
   "language": "python",
   "name": "nnpdf40"
  },
  "language_info": {
   "codemirror_mode": {
    "name": "ipython",
    "version": 3
   },
   "file_extension": ".py",
   "mimetype": "text/x-python",
   "name": "python",
   "nbconvert_exporter": "python",
   "pygments_lexer": "ipython3",
   "version": "3.9.7"
  }
 },
 "nbformat": 4,
 "nbformat_minor": 5
}
