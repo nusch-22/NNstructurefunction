{
 "cells": [
  {
   "cell_type": "code",
   "execution_count": 28,
   "id": "76b44861-e80b-4e17-8b41-b8507c86d3ba",
   "metadata": {},
   "outputs": [],
   "source": [
    "import numpy as np\n",
    "import matplotlib.pyplot as plt\n",
    "import yaml\n",
    "\n",
    "from tensorflow.keras import Sequential\n",
    "from tensorflow.keras.layers import Dense\n",
    "from tensorflow.keras.callbacks import Callback, EarlyStopping\n",
    "\n",
    "%matplotlib inline"
   ]
  },
  {
   "cell_type": "code",
   "execution_count": 1,
   "id": "fd85015b",
   "metadata": {},
   "outputs": [
    {
     "ename": "NameError",
     "evalue": "name 'yaml' is not defined",
     "output_type": "error",
     "traceback": [
      "\u001b[0;31m---------------------------------------------------------------------------\u001b[0m",
      "\u001b[0;31mNameError\u001b[0m                                 Traceback (most recent call last)",
      "\u001b[0;32m/tmp/ipykernel_19079/4232186609.py\u001b[0m in \u001b[0;36m<module>\u001b[0;34m\u001b[0m\n\u001b[1;32m      2\u001b[0m \u001b[0mfilename\u001b[0m \u001b[0;34m=\u001b[0m \u001b[0;34m\"./data/DATA_CHORUS_0.02.yaml\"\u001b[0m\u001b[0;34m\u001b[0m\u001b[0;34m\u001b[0m\u001b[0m\n\u001b[1;32m      3\u001b[0m \u001b[0;32mwith\u001b[0m \u001b[0mopen\u001b[0m\u001b[0;34m(\u001b[0m\u001b[0mfilename\u001b[0m\u001b[0;34m,\u001b[0m \u001b[0;34m\"r\"\u001b[0m\u001b[0;34m)\u001b[0m \u001b[0;32mas\u001b[0m \u001b[0mfile\u001b[0m\u001b[0;34m:\u001b[0m\u001b[0;34m\u001b[0m\u001b[0;34m\u001b[0m\u001b[0m\n\u001b[0;32m----> 4\u001b[0;31m     \u001b[0minput_data\u001b[0m \u001b[0;34m=\u001b[0m \u001b[0myaml\u001b[0m\u001b[0;34m.\u001b[0m\u001b[0msafe_load\u001b[0m\u001b[0;34m(\u001b[0m\u001b[0mfile\u001b[0m\u001b[0;34m)\u001b[0m\u001b[0;34m\u001b[0m\u001b[0;34m\u001b[0m\u001b[0m\n\u001b[0m\u001b[1;32m      5\u001b[0m \u001b[0mx\u001b[0m \u001b[0;34m=\u001b[0m \u001b[0minput_data\u001b[0m\u001b[0;34m[\u001b[0m\u001b[0;34m\"x\"\u001b[0m\u001b[0;34m]\u001b[0m\u001b[0;34m\u001b[0m\u001b[0;34m\u001b[0m\u001b[0m\n\u001b[1;32m      6\u001b[0m \u001b[0mQ2\u001b[0m \u001b[0;34m=\u001b[0m \u001b[0minput_data\u001b[0m\u001b[0;34m[\u001b[0m\u001b[0;34m\"Q2\"\u001b[0m\u001b[0;34m]\u001b[0m\u001b[0;34m\u001b[0m\u001b[0;34m\u001b[0m\u001b[0m\n",
      "\u001b[0;31mNameError\u001b[0m: name 'yaml' is not defined"
     ]
    }
   ],
   "source": [
    "# Load data\n",
    "filename = \"./data/DATA_CHORUS_0.02.yaml\"\n",
    "with open(filename, \"r\") as file:\n",
    "    input_data = yaml.safe_load(file)\n",
    "x = input_data[\"x\"]\n",
    "Q2 = input_data[\"Q2\"]\n",
    "F_2 = input_data[\"F_2\"]\n",
    "F_2_err_stat = input_data[\"F_2_err_stat\"]\n",
    "F_2_err_sys = input_data[\"F_2_err_sys\"]"
   ]
  },
  {
   "cell_type": "markdown",
   "id": "f41b6474",
   "metadata": {},
   "source": []
  },
  {
   "cell_type": "code",
   "execution_count": 30,
   "id": "56ed9d02-eb64-47d3-8ad1-5332e82f5c2d",
   "metadata": {},
   "outputs": [],
   "source": [
    "# Construct the Dataset\n",
    "x_data = np.array(Q2)\n",
    "y_data = np.array(F_2)"
   ]
  },
  {
   "cell_type": "code",
   "execution_count": 31,
   "id": "95362c86",
   "metadata": {},
   "outputs": [],
   "source": [
    "def split_trval(x_data, y_data, perc = 0.3):\n",
    "    size_val = round(len(x_data)*perc)\n",
    "    idx = np.random.choice(np.arange(1, len(x_data)-1, 2), size_val, replace=False)\n",
    "    x_val = x_data[idx]\n",
    "    y_val = y_data[idx]\n",
    "    x_tr = np.delete(x_data, idx)\n",
    "    y_tr = np.delete(y_data, idx)\n",
    "\n",
    "    return x_tr, y_tr, x_val, y_val\n",
    "    "
   ]
  },
  {
   "cell_type": "code",
   "execution_count": 32,
   "id": "7400b372",
   "metadata": {},
   "outputs": [],
   "source": [
    "x_tr, y_tr, x_val, y_val = split_trval(x_data, y_data)"
   ]
  },
  {
   "cell_type": "code",
   "execution_count": 33,
   "id": "1e7a6a7d-660b-4ce9-8b1b-191f54e88024",
   "metadata": {},
   "outputs": [
    {
     "data": {
      "text/plain": [
       "<matplotlib.collections.PathCollection at 0x7efdc5971280>"
      ]
     },
     "execution_count": 33,
     "metadata": {},
     "output_type": "execute_result"
    },
    {
     "data": {
      "image/png": "[encoded data removed]",
      "text/plain": [
       "<Figure size 432x288 with 1 Axes>"
      ]
     },
     "metadata": {
      "needs_background": "light"
     },
     "output_type": "display_data"
    }
   ],
   "source": [
    "plt.scatter(x_tr, y_tr, s=5)\n",
    "plt.scatter(x_val, y_val, s=5, color = \"red\")"
   ]
  },
  {
   "cell_type": "code",
   "execution_count": 34,
   "id": "44edbcca-0105-44da-a9d0-947b4ff446ba",
   "metadata": {},
   "outputs": [
    {
     "name": "stdout",
     "output_type": "stream",
     "text": [
      "Model: \"sequential_2\"\n",
      "_________________________________________________________________\n",
      "Layer (type)                 Output Shape              Param #   \n",
      "=================================================================\n",
      "dense_8 (Dense)              (None, 1)                 2         \n",
      "_________________________________________________________________\n",
      "dense_9 (Dense)              (None, 32)                64        \n",
      "_________________________________________________________________\n",
      "dense_10 (Dense)             (None, 32)                1056      \n",
      "_________________________________________________________________\n",
      "dense_11 (Dense)             (None, 1)                 33        \n",
      "=================================================================\n",
      "Total params: 1,155\n",
      "Trainable params: 1,155\n",
      "Non-trainable params: 0\n",
      "_________________________________________________________________\n"
     ]
    }
   ],
   "source": [
    "# Create the NN model\n",
    "model = Sequential()\n",
    "model.add(Dense(units = 1, activation = 'linear', input_shape=[1]))\n",
    "model.add(Dense(units = 32, activation = 'relu'))\n",
    "model.add(Dense(units = 32, activation = 'relu'))\n",
    "model.add(Dense(units = 1, activation = 'linear'))\n",
    "model.compile(loss='mse', optimizer=\"adam\", metrics=[\"accuracy\"])\n",
    "\n",
    "# Display the model\n",
    "model.summary()"
   ]
  },
  {
   "cell_type": "code",
   "execution_count": 41,
   "id": "216197e0",
   "metadata": {},
   "outputs": [],
   "source": [
    "# early stopping\n",
    "es = EarlyStopping(monitor='val_loss', mode='min', verbose=1, patience=50)"
   ]
  },
  {
   "cell_type": "code",
   "execution_count": 42,
   "id": "4d1aeb93-c006-41c3-9fa1-362752dca131",
   "metadata": {},
   "outputs": [
    {
     "name": "stdout",
     "output_type": "stream",
     "text": [
      "Epoch 1/1000\n",
      "1/1 [==============================] - 0s 128ms/step - loss: 6.9613e-04 - accuracy: 0.0000e+00 - val_loss: 3.6016e-04 - val_accuracy: 0.0000e+00\n",
      "Epoch 2/1000\n",
      "1/1 [==============================] - 0s 71ms/step - loss: 6.9285e-04 - accuracy: 0.0000e+00 - val_loss: 3.5477e-04 - val_accuracy: 0.0000e+00\n",
      "Epoch 3/1000\n",
      "1/1 [==============================] - 0s 72ms/step - loss: 6.8768e-04 - accuracy: 0.0000e+00 - val_loss: 3.4108e-04 - val_accuracy: 0.0000e+00\n",
      "Epoch 4/1000\n",
      "1/1 [==============================] - 0s 55ms/step - loss: 6.8103e-04 - accuracy: 0.0000e+00 - val_loss: 3.2340e-04 - val_accuracy: 0.0000e+00\n",
      "Epoch 5/1000\n",
      "1/1 [==============================] - 0s 53ms/step - loss: 6.7509e-04 - accuracy: 0.0000e+00 - val_loss: 3.0695e-04 - val_accuracy: 0.0000e+00\n",
      "Epoch 6/1000\n",
      "1/1 [==============================] - 0s 64ms/step - loss: 6.7079e-04 - accuracy: 0.0000e+00 - val_loss: 2.9569e-04 - val_accuracy: 0.0000e+00\n",
      "Epoch 7/1000\n",
      "1/1 [==============================] - 0s 58ms/step - loss: 6.6685e-04 - accuracy: 0.0000e+00 - val_loss: 2.9122e-04 - val_accuracy: 0.0000e+00\n",
      "Epoch 8/1000\n",
      "1/1 [==============================] - 0s 65ms/step - loss: 6.6179e-04 - accuracy: 0.0000e+00 - val_loss: 2.9266e-04 - val_accuracy: 0.0000e+00\n",
      "Epoch 9/1000\n",
      "1/1 [==============================] - 0s 53ms/step - loss: 6.5578e-04 - accuracy: 0.0000e+00 - val_loss: 2.9718e-04 - val_accuracy: 0.0000e+00\n",
      "Epoch 10/1000\n",
      "1/1 [==============================] - 0s 55ms/step - loss: 6.5016e-04 - accuracy: 0.0000e+00 - val_loss: 3.0099e-04 - val_accuracy: 0.0000e+00\n",
      "Epoch 11/1000\n",
      "1/1 [==============================] - 0s 53ms/step - loss: 6.4552e-04 - accuracy: 0.0000e+00 - val_loss: 3.0081e-04 - val_accuracy: 0.0000e+00\n",
      "Epoch 12/1000\n",
      "1/1 [==============================] - 0s 52ms/step - loss: 6.4114e-04 - accuracy: 0.0000e+00 - val_loss: 2.9514e-04 - val_accuracy: 0.0000e+00\n",
      "Epoch 13/1000\n",
      "1/1 [==============================] - 0s 52ms/step - loss: 6.3613e-04 - accuracy: 0.0000e+00 - val_loss: 2.8475e-04 - val_accuracy: 0.0000e+00\n",
      "Epoch 14/1000\n",
      "1/1 [==============================] - 0s 48ms/step - loss: 6.3057e-04 - accuracy: 0.0000e+00 - val_loss: 2.7220e-04 - val_accuracy: 0.0000e+00\n",
      "Epoch 15/1000\n",
      "1/1 [==============================] - 0s 55ms/step - loss: 6.2526e-04 - accuracy: 0.0000e+00 - val_loss: 2.6055e-04 - val_accuracy: 0.0000e+00\n",
      "Epoch 16/1000\n",
      "1/1 [==============================] - 0s 47ms/step - loss: 6.2057e-04 - accuracy: 0.0000e+00 - val_loss: 2.5216e-04 - val_accuracy: 0.0000e+00\n",
      "Epoch 17/1000\n",
      "1/1 [==============================] - 0s 49ms/step - loss: 6.1607e-04 - accuracy: 0.0000e+00 - val_loss: 2.4804e-04 - val_accuracy: 0.0000e+00\n",
      "Epoch 18/1000\n",
      "1/1 [==============================] - 0s 49ms/step - loss: 6.1120e-04 - accuracy: 0.0000e+00 - val_loss: 2.4768e-04 - val_accuracy: 0.0000e+00\n",
      "Epoch 19/1000\n",
      "1/1 [==============================] - 0s 48ms/step - loss: 6.0603e-04 - accuracy: 0.0000e+00 - val_loss: 2.4943e-04 - val_accuracy: 0.0000e+00\n",
      "Epoch 20/1000\n",
      "1/1 [==============================] - 0s 49ms/step - loss: 6.0103e-04 - accuracy: 0.0000e+00 - val_loss: 2.5111e-04 - val_accuracy: 0.0000e+00\n",
      "Epoch 21/1000\n",
      "1/1 [==============================] - 0s 48ms/step - loss: 5.9641e-04 - accuracy: 0.0000e+00 - val_loss: 2.5090e-04 - val_accuracy: 0.0000e+00\n",
      "Epoch 22/1000\n",
      "1/1 [==============================] - 0s 48ms/step - loss: 5.9190e-04 - accuracy: 0.0000e+00 - val_loss: 2.4797e-04 - val_accuracy: 0.0000e+00\n",
      "Epoch 23/1000\n",
      "1/1 [==============================] - 0s 52ms/step - loss: 5.8715e-04 - accuracy: 0.0000e+00 - val_loss: 2.4276e-04 - val_accuracy: 0.0000e+00\n",
      "Epoch 24/1000\n",
      "1/1 [==============================] - 0s 47ms/step - loss: 5.8223e-04 - accuracy: 0.0000e+00 - val_loss: 2.3666e-04 - val_accuracy: 0.0000e+00\n",
      "Epoch 25/1000\n",
      "1/1 [==============================] - 0s 46ms/step - loss: 5.7743e-04 - accuracy: 0.0000e+00 - val_loss: 2.3136e-04 - val_accuracy: 0.0000e+00\n",
      "Epoch 26/1000\n",
      "1/1 [==============================] - 0s 47ms/step - loss: 5.7286e-04 - accuracy: 0.0000e+00 - val_loss: 2.2815e-04 - val_accuracy: 0.0000e+00\n",
      "Epoch 27/1000\n",
      "1/1 [==============================] - 0s 46ms/step - loss: 5.6834e-04 - accuracy: 0.0000e+00 - val_loss: 2.2754e-04 - val_accuracy: 0.0000e+00\n",
      "Epoch 28/1000\n",
      "1/1 [==============================] - 0s 48ms/step - loss: 5.6368e-04 - accuracy: 0.0000e+00 - val_loss: 2.2912e-04 - val_accuracy: 0.0000e+00\n",
      "Epoch 29/1000\n",
      "1/1 [==============================] - 0s 44ms/step - loss: 5.5893e-04 - accuracy: 0.0000e+00 - val_loss: 2.3180e-04 - val_accuracy: 0.0000e+00\n",
      "Epoch 30/1000\n",
      "1/1 [==============================] - 0s 48ms/step - loss: 5.5428e-04 - accuracy: 0.0000e+00 - val_loss: 2.3424e-04 - val_accuracy: 0.0000e+00\n",
      "Epoch 31/1000\n",
      "1/1 [==============================] - 0s 46ms/step - loss: 5.4977e-04 - accuracy: 0.0000e+00 - val_loss: 2.3534e-04 - val_accuracy: 0.0000e+00\n",
      "Epoch 32/1000\n",
      "1/1 [==============================] - 0s 54ms/step - loss: 5.4529e-04 - accuracy: 0.0000e+00 - val_loss: 2.3468e-04 - val_accuracy: 0.0000e+00\n",
      "Epoch 33/1000\n",
      "1/1 [==============================] - 0s 66ms/step - loss: 5.4145e-04 - accuracy: 0.0000e+00 - val_loss: 2.4521e-04 - val_accuracy: 0.0000e+00\n",
      "Epoch 34/1000\n",
      "1/1 [==============================] - 0s 61ms/step - loss: 5.3773e-04 - accuracy: 0.0000e+00 - val_loss: 2.4924e-04 - val_accuracy: 0.0000e+00\n",
      "Epoch 35/1000\n",
      "1/1 [==============================] - 0s 59ms/step - loss: 5.3435e-04 - accuracy: 0.0000e+00 - val_loss: 2.4513e-04 - val_accuracy: 0.0000e+00\n",
      "Epoch 36/1000\n",
      "1/1 [==============================] - 0s 61ms/step - loss: 5.2932e-04 - accuracy: 0.0000e+00 - val_loss: 2.3512e-04 - val_accuracy: 0.0000e+00\n",
      "Epoch 37/1000\n",
      "1/1 [==============================] - 0s 59ms/step - loss: 5.2383e-04 - accuracy: 0.0000e+00 - val_loss: 2.2351e-04 - val_accuracy: 0.0000e+00\n",
      "Epoch 38/1000\n",
      "1/1 [==============================] - 0s 52ms/step - loss: 5.1950e-04 - accuracy: 0.0000e+00 - val_loss: 2.1456e-04 - val_accuracy: 0.0000e+00\n",
      "Epoch 39/1000\n",
      "1/1 [==============================] - 0s 56ms/step - loss: 5.1615e-04 - accuracy: 0.0000e+00 - val_loss: 2.1080e-04 - val_accuracy: 0.0000e+00\n",
      "Epoch 40/1000\n",
      "1/1 [==============================] - 0s 65ms/step - loss: 5.1233e-04 - accuracy: 0.0000e+00 - val_loss: 2.1248e-04 - val_accuracy: 0.0000e+00\n",
      "Epoch 41/1000\n",
      "1/1 [==============================] - 0s 63ms/step - loss: 5.0749e-04 - accuracy: 0.0000e+00 - val_loss: 2.1775e-04 - val_accuracy: 0.0000e+00\n",
      "Epoch 42/1000\n",
      "1/1 [==============================] - 0s 57ms/step - loss: 5.0251e-04 - accuracy: 0.0000e+00 - val_loss: 2.2344e-04 - val_accuracy: 0.0000e+00\n",
      "Epoch 43/1000\n",
      "1/1 [==============================] - 0s 56ms/step - loss: 4.9828e-04 - accuracy: 0.0000e+00 - val_loss: 2.2631e-04 - val_accuracy: 0.0000e+00\n",
      "Epoch 44/1000\n",
      "1/1 [==============================] - 0s 60ms/step - loss: 4.9454e-04 - accuracy: 0.0000e+00 - val_loss: 2.2441e-04 - val_accuracy: 0.0000e+00\n",
      "Epoch 45/1000\n",
      "1/1 [==============================] - 0s 63ms/step - loss: 4.9042e-04 - accuracy: 0.0000e+00 - val_loss: 2.1786e-04 - val_accuracy: 0.0000e+00\n",
      "Epoch 46/1000\n",
      "1/1 [==============================] - 0s 52ms/step - loss: 4.8574e-04 - accuracy: 0.0000e+00 - val_loss: 2.0866e-04 - val_accuracy: 0.0000e+00\n",
      "Epoch 47/1000\n",
      "1/1 [==============================] - 0s 59ms/step - loss: 4.8112e-04 - accuracy: 0.0000e+00 - val_loss: 1.9960e-04 - val_accuracy: 0.0000e+00\n",
      "Epoch 48/1000\n",
      "1/1 [==============================] - 0s 62ms/step - loss: 4.7703e-04 - accuracy: 0.0000e+00 - val_loss: 1.9302e-04 - val_accuracy: 0.0000e+00\n",
      "Epoch 49/1000\n",
      "1/1 [==============================] - 0s 68ms/step - loss: 4.7318e-04 - accuracy: 0.0000e+00 - val_loss: 1.9007e-04 - val_accuracy: 0.0000e+00\n",
      "Epoch 50/1000\n",
      "1/1 [==============================] - 0s 61ms/step - loss: 4.6907e-04 - accuracy: 0.0000e+00 - val_loss: 1.9045e-04 - val_accuracy: 0.0000e+00\n",
      "Epoch 51/1000\n",
      "1/1 [==============================] - 0s 51ms/step - loss: 4.6468e-04 - accuracy: 0.0000e+00 - val_loss: 1.9272e-04 - val_accuracy: 0.0000e+00\n",
      "Epoch 52/1000\n",
      "1/1 [==============================] - 0s 45ms/step - loss: 4.6044e-04 - accuracy: 0.0000e+00 - val_loss: 1.9495e-04 - val_accuracy: 0.0000e+00\n",
      "Epoch 53/1000\n",
      "1/1 [==============================] - 0s 45ms/step - loss: 4.5652e-04 - accuracy: 0.0000e+00 - val_loss: 1.9546e-04 - val_accuracy: 0.0000e+00\n",
      "Epoch 54/1000\n",
      "1/1 [==============================] - 0s 55ms/step - loss: 4.5269e-04 - accuracy: 0.0000e+00 - val_loss: 1.9356e-04 - val_accuracy: 0.0000e+00\n",
      "Epoch 55/1000\n",
      "1/1 [==============================] - 0s 71ms/step - loss: 4.4867e-04 - accuracy: 0.0000e+00 - val_loss: 1.8971e-04 - val_accuracy: 0.0000e+00\n",
      "Epoch 56/1000\n",
      "1/1 [==============================] - 0s 73ms/step - loss: 4.4451e-04 - accuracy: 0.0000e+00 - val_loss: 1.8528e-04 - val_accuracy: 0.0000e+00\n",
      "Epoch 57/1000\n",
      "1/1 [==============================] - 0s 53ms/step - loss: 4.4050e-04 - accuracy: 0.0000e+00 - val_loss: 1.8179e-04 - val_accuracy: 0.0000e+00\n",
      "Epoch 58/1000\n",
      "1/1 [==============================] - 0s 59ms/step - loss: 4.3667e-04 - accuracy: 0.0000e+00 - val_loss: 1.8036e-04 - val_accuracy: 0.0000e+00\n",
      "Epoch 59/1000\n",
      "1/1 [==============================] - 0s 57ms/step - loss: 4.3284e-04 - accuracy: 0.0000e+00 - val_loss: 1.8126e-04 - val_accuracy: 0.0000e+00\n",
      "Epoch 60/1000\n",
      "1/1 [==============================] - 0s 68ms/step - loss: 4.2901e-04 - accuracy: 0.0000e+00 - val_loss: 1.9556e-04 - val_accuracy: 0.0000e+00\n",
      "Epoch 61/1000\n",
      "1/1 [==============================] - 0s 62ms/step - loss: 4.2559e-04 - accuracy: 0.0000e+00 - val_loss: 2.0538e-04 - val_accuracy: 0.0000e+00\n",
      "Epoch 62/1000\n",
      "1/1 [==============================] - 0s 68ms/step - loss: 4.2351e-04 - accuracy: 0.0000e+00 - val_loss: 2.0723e-04 - val_accuracy: 0.0000e+00\n",
      "Epoch 63/1000\n",
      "1/1 [==============================] - 0s 54ms/step - loss: 4.1994e-04 - accuracy: 0.0000e+00 - val_loss: 2.0151e-04 - val_accuracy: 0.0000e+00\n",
      "Epoch 64/1000\n",
      "1/1 [==============================] - 0s 48ms/step - loss: 4.1480e-04 - accuracy: 0.0000e+00 - val_loss: 1.9189e-04 - val_accuracy: 0.0000e+00\n",
      "Epoch 65/1000\n",
      "1/1 [==============================] - 0s 47ms/step - loss: 4.1024e-04 - accuracy: 0.0000e+00 - val_loss: 1.8309e-04 - val_accuracy: 0.0000e+00\n",
      "Epoch 66/1000\n",
      "1/1 [==============================] - 0s 55ms/step - loss: 4.0728e-04 - accuracy: 0.0000e+00 - val_loss: 1.7866e-04 - val_accuracy: 0.0000e+00\n",
      "Epoch 67/1000\n",
      "1/1 [==============================] - 0s 59ms/step - loss: 4.0455e-04 - accuracy: 0.0000e+00 - val_loss: 1.7986e-04 - val_accuracy: 0.0000e+00\n",
      "Epoch 68/1000\n",
      "1/1 [==============================] - 0s 53ms/step - loss: 4.0065e-04 - accuracy: 0.0000e+00 - val_loss: 1.8560e-04 - val_accuracy: 0.0000e+00\n",
      "Epoch 69/1000\n",
      "1/1 [==============================] - 0s 60ms/step - loss: 3.9607e-04 - accuracy: 0.0000e+00 - val_loss: 1.9329e-04 - val_accuracy: 0.0000e+00\n",
      "Epoch 70/1000\n",
      "1/1 [==============================] - 0s 55ms/step - loss: 3.9215e-04 - accuracy: 0.0000e+00 - val_loss: 1.9940e-04 - val_accuracy: 0.0000e+00\n",
      "Epoch 71/1000\n",
      "1/1 [==============================] - 0s 54ms/step - loss: 3.8909e-04 - accuracy: 0.0000e+00 - val_loss: 2.0089e-04 - val_accuracy: 0.0000e+00\n",
      "Epoch 72/1000\n",
      "1/1 [==============================] - 0s 59ms/step - loss: 3.8585e-04 - accuracy: 0.0000e+00 - val_loss: 1.9717e-04 - val_accuracy: 0.0000e+00\n",
      "Epoch 73/1000\n",
      "1/1 [==============================] - 0s 58ms/step - loss: 3.8186e-04 - accuracy: 0.0000e+00 - val_loss: 1.8993e-04 - val_accuracy: 0.0000e+00\n",
      "Epoch 74/1000\n",
      "1/1 [==============================] - 0s 58ms/step - loss: 3.7773e-04 - accuracy: 0.0000e+00 - val_loss: 1.8209e-04 - val_accuracy: 0.0000e+00\n",
      "Epoch 75/1000\n",
      "1/1 [==============================] - 0s 70ms/step - loss: 3.7418e-04 - accuracy: 0.0000e+00 - val_loss: 1.7641e-04 - val_accuracy: 0.0000e+00\n",
      "Epoch 76/1000\n",
      "1/1 [==============================] - 0s 63ms/step - loss: 3.7102e-04 - accuracy: 0.0000e+00 - val_loss: 1.7436e-04 - val_accuracy: 0.0000e+00\n",
      "Epoch 77/1000\n",
      "1/1 [==============================] - 0s 74ms/step - loss: 3.6760e-04 - accuracy: 0.0000e+00 - val_loss: 1.7588e-04 - val_accuracy: 0.0000e+00\n",
      "Epoch 78/1000\n",
      "1/1 [==============================] - 0s 65ms/step - loss: 3.6379e-04 - accuracy: 0.0000e+00 - val_loss: 1.7953e-04 - val_accuracy: 0.0000e+00\n",
      "Epoch 79/1000\n",
      "1/1 [==============================] - 0s 69ms/step - loss: 3.6009e-04 - accuracy: 0.0000e+00 - val_loss: 1.8319e-04 - val_accuracy: 0.0000e+00\n",
      "Epoch 80/1000\n",
      "1/1 [==============================] - 0s 71ms/step - loss: 3.5679e-04 - accuracy: 0.0000e+00 - val_loss: 1.8493e-04 - val_accuracy: 0.0000e+00\n",
      "Epoch 81/1000\n",
      "1/1 [==============================] - 0s 53ms/step - loss: 3.5361e-04 - accuracy: 0.0000e+00 - val_loss: 1.8390e-04 - val_accuracy: 0.0000e+00\n",
      "Epoch 82/1000\n",
      "1/1 [==============================] - 0s 43ms/step - loss: 3.5019e-04 - accuracy: 0.0000e+00 - val_loss: 1.8063e-04 - val_accuracy: 0.0000e+00\n",
      "Epoch 83/1000\n",
      "1/1 [==============================] - 0s 49ms/step - loss: 3.4661e-04 - accuracy: 0.0000e+00 - val_loss: 1.7665e-04 - val_accuracy: 0.0000e+00\n",
      "Epoch 84/1000\n",
      "1/1 [==============================] - 0s 49ms/step - loss: 3.4320e-04 - accuracy: 0.0000e+00 - val_loss: 1.7369e-04 - val_accuracy: 0.0000e+00\n",
      "Epoch 85/1000\n",
      "1/1 [==============================] - 0s 47ms/step - loss: 3.4001e-04 - accuracy: 0.0000e+00 - val_loss: 1.7296e-04 - val_accuracy: 0.0000e+00\n",
      "Epoch 86/1000\n",
      "1/1 [==============================] - 0s 53ms/step - loss: 3.3680e-04 - accuracy: 0.0000e+00 - val_loss: 1.7471e-04 - val_accuracy: 0.0000e+00\n",
      "Epoch 87/1000\n",
      "1/1 [==============================] - 0s 46ms/step - loss: 3.3343e-04 - accuracy: 0.0000e+00 - val_loss: 1.7824e-04 - val_accuracy: 0.0000e+00\n",
      "Epoch 88/1000\n",
      "1/1 [==============================] - 0s 48ms/step - loss: 3.3004e-04 - accuracy: 0.0000e+00 - val_loss: 1.8223e-04 - val_accuracy: 0.0000e+00\n",
      "Epoch 89/1000\n",
      "1/1 [==============================] - 0s 43ms/step - loss: 3.2681e-04 - accuracy: 0.0000e+00 - val_loss: 1.8534e-04 - val_accuracy: 0.0000e+00\n",
      "Epoch 90/1000\n",
      "1/1 [==============================] - 0s 46ms/step - loss: 3.2368e-04 - accuracy: 0.0000e+00 - val_loss: 1.8675e-04 - val_accuracy: 0.0000e+00\n",
      "Epoch 91/1000\n",
      "1/1 [==============================] - 0s 44ms/step - loss: 3.2049e-04 - accuracy: 0.0000e+00 - val_loss: 1.8650e-04 - val_accuracy: 0.0000e+00\n",
      "Epoch 92/1000\n",
      "1/1 [==============================] - 0s 51ms/step - loss: 3.1723e-04 - accuracy: 0.0000e+00 - val_loss: 1.8541e-04 - val_accuracy: 0.0000e+00\n",
      "Epoch 93/1000\n",
      "1/1 [==============================] - 0s 45ms/step - loss: 3.1413e-04 - accuracy: 0.0000e+00 - val_loss: 1.9601e-04 - val_accuracy: 0.0000e+00\n",
      "Epoch 94/1000\n",
      "1/1 [==============================] - 0s 49ms/step - loss: 3.1145e-04 - accuracy: 0.0000e+00 - val_loss: 2.0258e-04 - val_accuracy: 0.0000e+00\n",
      "Epoch 95/1000\n",
      "1/1 [==============================] - 0s 48ms/step - loss: 3.0901e-04 - accuracy: 0.0000e+00 - val_loss: 2.0369e-04 - val_accuracy: 0.0000e+00\n",
      "Epoch 96/1000\n",
      "1/1 [==============================] - 0s 48ms/step - loss: 3.0583e-04 - accuracy: 0.0000e+00 - val_loss: 2.0046e-04 - val_accuracy: 0.0000e+00\n",
      "Epoch 97/1000\n",
      "1/1 [==============================] - 0s 45ms/step - loss: 3.0234e-04 - accuracy: 0.0000e+00 - val_loss: 1.9566e-04 - val_accuracy: 0.0000e+00\n",
      "Epoch 98/1000\n",
      "1/1 [==============================] - 0s 67ms/step - loss: 2.9937e-04 - accuracy: 0.0000e+00 - val_loss: 1.9220e-04 - val_accuracy: 0.0000e+00\n",
      "Epoch 99/1000\n",
      "1/1 [==============================] - 0s 52ms/step - loss: 2.9686e-04 - accuracy: 0.0000e+00 - val_loss: 1.9182e-04 - val_accuracy: 0.0000e+00\n",
      "Epoch 100/1000\n",
      "1/1 [==============================] - 0s 43ms/step - loss: 2.9409e-04 - accuracy: 0.0000e+00 - val_loss: 1.9460e-04 - val_accuracy: 0.0000e+00\n",
      "Epoch 101/1000\n",
      "1/1 [==============================] - 0s 47ms/step - loss: 2.9084e-04 - accuracy: 0.0000e+00 - val_loss: 1.9912e-04 - val_accuracy: 0.0000e+00\n",
      "Epoch 102/1000\n",
      "1/1 [==============================] - 0s 49ms/step - loss: 2.8763e-04 - accuracy: 0.0000e+00 - val_loss: 2.0311e-04 - val_accuracy: 0.0000e+00\n",
      "Epoch 103/1000\n",
      "1/1 [==============================] - 0s 50ms/step - loss: 2.8482e-04 - accuracy: 0.0000e+00 - val_loss: 2.0455e-04 - val_accuracy: 0.0000e+00\n",
      "Epoch 104/1000\n",
      "1/1 [==============================] - 0s 62ms/step - loss: 2.8212e-04 - accuracy: 0.0000e+00 - val_loss: 2.0259e-04 - val_accuracy: 0.0000e+00\n",
      "Epoch 105/1000\n",
      "1/1 [==============================] - 0s 47ms/step - loss: 2.7914e-04 - accuracy: 0.0000e+00 - val_loss: 1.9793e-04 - val_accuracy: 0.0000e+00\n",
      "Epoch 106/1000\n",
      "1/1 [==============================] - 0s 48ms/step - loss: 2.7600e-04 - accuracy: 0.0000e+00 - val_loss: 1.9231e-04 - val_accuracy: 0.0000e+00\n",
      "Epoch 107/1000\n",
      "1/1 [==============================] - 0s 48ms/step - loss: 2.7307e-04 - accuracy: 0.0000e+00 - val_loss: 1.8767e-04 - val_accuracy: 0.0000e+00\n",
      "Epoch 108/1000\n",
      "1/1 [==============================] - 0s 50ms/step - loss: 2.7037e-04 - accuracy: 0.0000e+00 - val_loss: 1.8525e-04 - val_accuracy: 0.0000e+00\n",
      "Epoch 109/1000\n",
      "1/1 [==============================] - 0s 47ms/step - loss: 2.6764e-04 - accuracy: 0.0000e+00 - val_loss: 1.8524e-04 - val_accuracy: 0.0000e+00\n",
      "Epoch 110/1000\n",
      "1/1 [==============================] - 0s 47ms/step - loss: 2.6475e-04 - accuracy: 0.0000e+00 - val_loss: 1.8685e-04 - val_accuracy: 0.0000e+00\n",
      "Epoch 111/1000\n",
      "1/1 [==============================] - 0s 53ms/step - loss: 2.6189e-04 - accuracy: 0.0000e+00 - val_loss: 1.8873e-04 - val_accuracy: 0.0000e+00\n",
      "Epoch 112/1000\n",
      "1/1 [==============================] - 0s 56ms/step - loss: 2.5920e-04 - accuracy: 0.0000e+00 - val_loss: 1.8963e-04 - val_accuracy: 0.0000e+00\n",
      "Epoch 113/1000\n",
      "1/1 [==============================] - 0s 59ms/step - loss: 2.5660e-04 - accuracy: 0.0000e+00 - val_loss: 1.8893e-04 - val_accuracy: 0.0000e+00\n",
      "Epoch 114/1000\n",
      "1/1 [==============================] - 0s 47ms/step - loss: 2.5391e-04 - accuracy: 0.0000e+00 - val_loss: 1.8696e-04 - val_accuracy: 0.0000e+00\n",
      "Epoch 115/1000\n",
      "1/1 [==============================] - 0s 47ms/step - loss: 2.5116e-04 - accuracy: 0.0000e+00 - val_loss: 1.8467e-04 - val_accuracy: 0.0000e+00\n",
      "Epoch 116/1000\n",
      "1/1 [==============================] - 0s 46ms/step - loss: 2.4849e-04 - accuracy: 0.0000e+00 - val_loss: 1.8320e-04 - val_accuracy: 0.0000e+00\n",
      "Epoch 117/1000\n",
      "1/1 [==============================] - 0s 49ms/step - loss: 2.4592e-04 - accuracy: 0.0000e+00 - val_loss: 1.8329e-04 - val_accuracy: 0.0000e+00\n",
      "Epoch 118/1000\n",
      "1/1 [==============================] - 0s 51ms/step - loss: 2.4372e-04 - accuracy: 0.0000e+00 - val_loss: 1.9557e-04 - val_accuracy: 0.0000e+00\n",
      "Epoch 119/1000\n",
      "1/1 [==============================] - 0s 47ms/step - loss: 2.4101e-04 - accuracy: 0.0000e+00 - val_loss: 2.0447e-04 - val_accuracy: 0.0000e+00\n",
      "Epoch 120/1000\n",
      "1/1 [==============================] - 0s 49ms/step - loss: 2.3937e-04 - accuracy: 0.0000e+00 - val_loss: 2.0749e-04 - val_accuracy: 0.0000e+00\n",
      "Epoch 121/1000\n",
      "1/1 [==============================] - 0s 47ms/step - loss: 2.3687e-04 - accuracy: 0.0000e+00 - val_loss: 2.0513e-04 - val_accuracy: 0.0000e+00\n",
      "Epoch 122/1000\n",
      "1/1 [==============================] - 0s 52ms/step - loss: 2.3362e-04 - accuracy: 0.0000e+00 - val_loss: 2.0030e-04 - val_accuracy: 0.0000e+00\n",
      "Epoch 123/1000\n",
      "1/1 [==============================] - 0s 46ms/step - loss: 2.3089e-04 - accuracy: 0.0000e+00 - val_loss: 1.9651e-04 - val_accuracy: 0.0000e+00\n",
      "Epoch 124/1000\n",
      "1/1 [==============================] - 0s 46ms/step - loss: 2.2898e-04 - accuracy: 0.0000e+00 - val_loss: 1.9610e-04 - val_accuracy: 0.0000e+00\n",
      "Epoch 125/1000\n",
      "1/1 [==============================] - 0s 53ms/step - loss: 2.2691e-04 - accuracy: 0.0000e+00 - val_loss: 1.9953e-04 - val_accuracy: 0.0000e+00\n",
      "Epoch 126/1000\n",
      "1/1 [==============================] - 0s 45ms/step - loss: 2.2414e-04 - accuracy: 0.0000e+00 - val_loss: 2.0537e-04 - val_accuracy: 0.0000e+00\n",
      "Epoch 127/1000\n",
      "1/1 [==============================] - 0s 56ms/step - loss: 2.2131e-04 - accuracy: 0.0000e+00 - val_loss: 2.1107e-04 - val_accuracy: 0.0000e+00\n",
      "Epoch 128/1000\n",
      "1/1 [==============================] - 0s 48ms/step - loss: 2.1904e-04 - accuracy: 0.0000e+00 - val_loss: 2.1409e-04 - val_accuracy: 0.0000e+00\n",
      "Epoch 129/1000\n",
      "1/1 [==============================] - 0s 45ms/step - loss: 2.1699e-04 - accuracy: 0.0000e+00 - val_loss: 2.1320e-04 - val_accuracy: 0.0000e+00\n",
      "Epoch 130/1000\n",
      "1/1 [==============================] - 0s 60ms/step - loss: 2.1456e-04 - accuracy: 0.0000e+00 - val_loss: 2.0905e-04 - val_accuracy: 0.0000e+00\n",
      "Epoch 131/1000\n",
      "1/1 [==============================] - 0s 64ms/step - loss: 2.1187e-04 - accuracy: 0.0000e+00 - val_loss: 2.0365e-04 - val_accuracy: 0.0000e+00\n",
      "Epoch 132/1000\n",
      "1/1 [==============================] - 0s 63ms/step - loss: 2.0943e-04 - accuracy: 0.0000e+00 - val_loss: 1.9926e-04 - val_accuracy: 0.0000e+00\n",
      "Epoch 133/1000\n",
      "1/1 [==============================] - 0s 51ms/step - loss: 2.0731e-04 - accuracy: 0.0000e+00 - val_loss: 1.9735e-04 - val_accuracy: 0.0000e+00\n",
      "Epoch 134/1000\n",
      "1/1 [==============================] - 0s 53ms/step - loss: 2.0510e-04 - accuracy: 0.0000e+00 - val_loss: 1.9810e-04 - val_accuracy: 0.0000e+00\n",
      "Epoch 135/1000\n",
      "1/1 [==============================] - 0s 68ms/step - loss: 2.0266e-04 - accuracy: 0.0000e+00 - val_loss: 2.0053e-04 - val_accuracy: 0.0000e+00\n",
      "Epoch 00135: early stopping\n"
     ]
    },
    {
     "data": {
      "text/plain": [
       "<tensorflow.python.keras.callbacks.History at 0x7efdc56e9190>"
      ]
     },
     "execution_count": 42,
     "metadata": {},
     "output_type": "execute_result"
    }
   ],
   "source": [
    "model.fit(x_tr, y_tr, validation_data=(x_val ,y_val), epochs=1000, batch_size=10, verbose=1, callbacks=[es])"
   ]
  },
  {
   "cell_type": "code",
   "execution_count": 43,
   "id": "25ec6341-2db9-413a-a03c-c32ed222cd5a",
   "metadata": {},
   "outputs": [],
   "source": [
    "x_pred = np.linspace(x_data[0], x_data[-1], num=100)\n",
    "y_pred = model.predict(x_pred)"
   ]
  },
  {
   "cell_type": "code",
   "execution_count": 44,
   "id": "dd8ba19e-9c26-42f0-992a-ada1ed8b717d",
   "metadata": {},
   "outputs": [
    {
     "data": {
      "text/plain": [
       "[<matplotlib.lines.Line2D at 0x7efdc4629b80>]"
      ]
     },
     "execution_count": 44,
     "metadata": {},
     "output_type": "execute_result"
    },
    {
     "data": {
      "image/png": "[encoded data removed]",
      "text/plain": [
       "<Figure size 432x288 with 1 Axes>"
      ]
     },
     "metadata": {
      "needs_background": "light"
     },
     "output_type": "display_data"
    }
   ],
   "source": [
    "plt.scatter(x_tr, y_tr, s=5)\n",
    "plt.scatter(x_val, y_val, s=10, color = \"green\")\n",
    "plt.plot(x_pred, y_pred, color=\"red\")"
   ]
  },
  {
   "cell_type": "code",
   "execution_count": null,
   "id": "acc4a70d-f2d6-4db0-b036-d55ada099d04",
   "metadata": {},
   "outputs": [],
   "source": []
  }
 ],
 "metadata": {
  "kernelspec": {
   "display_name": "nnpdf40",
   "language": "python",
   "name": "nnpdf40"
  },
  "language_info": {
   "codemirror_mode": {
    "name": "ipython",
    "version": 3
   },
   "file_extension": ".py",
   "mimetype": "text/x-python",
   "name": "python",
   "nbconvert_exporter": "python",
   "pygments_lexer": "ipython3",
   "version": "3.9.7"
  }
 },
 "nbformat": 4,
 "nbformat_minor": 5
}
