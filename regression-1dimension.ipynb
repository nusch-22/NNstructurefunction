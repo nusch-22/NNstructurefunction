{
 "cells": [
  {
   "cell_type": "code",
   "execution_count": 1,
   "id": "76b44861-e80b-4e17-8b41-b8507c86d3ba",
   "metadata": {},
   "outputs": [],
   "source": [
    "import numpy as np\n",
    "import matplotlib.pyplot as plt\n",
    "import yaml\n",
    "\n",
    "from tensorflow.keras import Sequential\n",
    "from tensorflow.keras.layers import Dense\n",
    "from tensorflow.keras.callbacks import Callback, EarlyStopping\n",
    "\n",
    "%matplotlib inline"
   ]
  },
  {
   "cell_type": "code",
   "execution_count": 2,
   "id": "69679c9b",
   "metadata": {},
   "outputs": [],
   "source": [
    "def create_replicas(x_data, x_err, n_rep = 100):\n",
    "    x_dist = np.zeros((n_rep, x_data.shape[0]))\n",
    "    for i, mean in enumerate(x_data):\n",
    "        x_dist[:,i] = np.random.normal(loc=mean, scale=x_err[i], size=n_rep)\n",
    "    return x_dist"
   ]
  },
  {
   "cell_type": "code",
   "execution_count": 3,
   "id": "95362c86",
   "metadata": {},
   "outputs": [],
   "source": [
    "def split_trval(x_data, y_data, perc = 0.3):\n",
    "    size_val = round(len(x_data)*perc)\n",
    "    idx = np.random.choice(np.arange(1, len(x_data)-1, 2), size_val, replace=False)\n",
    "    x_val = x_data[idx]\n",
    "    y_val = y_data[idx]\n",
    "    x_tr = np.delete(x_data, idx)\n",
    "    y_tr = np.delete(y_data, idx)\n",
    "\n",
    "    return x_tr, y_tr, x_val, y_val"
   ]
  },
  {
   "cell_type": "code",
   "execution_count": 4,
   "id": "44edbcca-0105-44da-a9d0-947b4ff446ba",
   "metadata": {},
   "outputs": [
    {
     "name": "stdout",
     "output_type": "stream",
     "text": [
      "Model: \"sequential\"\n",
      "_________________________________________________________________\n",
      "Layer (type)                 Output Shape              Param #   \n",
      "=================================================================\n",
      "dense (Dense)                (None, 1)                 2         \n",
      "_________________________________________________________________\n",
      "dense_1 (Dense)              (None, 32)                64        \n",
      "_________________________________________________________________\n",
      "dense_2 (Dense)              (None, 32)                1056      \n",
      "_________________________________________________________________\n",
      "dense_3 (Dense)              (None, 1)                 33        \n",
      "=================================================================\n",
      "Total params: 1,155\n",
      "Trainable params: 1,155\n",
      "Non-trainable params: 0\n",
      "_________________________________________________________________\n"
     ]
    },
    {
     "name": "stderr",
     "output_type": "stream",
     "text": [
      "2022-04-22 10:01:19.103181: I tensorflow/compiler/jit/xla_cpu_device.cc:41] Not creating XLA devices, tf_xla_enable_xla_devices not set\n",
      "2022-04-22 10:01:19.103502: I tensorflow/core/platform/cpu_feature_guard.cc:142] This TensorFlow binary is optimized with oneAPI Deep Neural Network Library (oneDNN) to use the following CPU instructions in performance-critical operations:  SSE4.1 SSE4.2 AVX AVX2 FMA\n",
      "To enable them in other operations, rebuild TensorFlow with the appropriate compiler flags.\n"
     ]
    }
   ],
   "source": [
    "# Create the NN model\n",
    "model = Sequential()\n",
    "model.add(Dense(units = 1, activation = 'linear', input_shape=[1]))\n",
    "model.add(Dense(units = 32, activation = 'relu'))\n",
    "model.add(Dense(units = 32, activation = 'relu'))\n",
    "model.add(Dense(units = 1, activation = 'linear'))\n",
    "model.compile(loss='mse', optimizer=\"adam\", metrics=[\"accuracy\"])\n",
    "\n",
    "# early stopping\n",
    "es = EarlyStopping(monitor='val_loss', mode='min', verbose=1, patience=50)\n",
    "\n",
    "# Display the model\n",
    "model.summary()"
   ]
  },
  {
   "cell_type": "code",
   "execution_count": 5,
   "id": "fd85015b",
   "metadata": {},
   "outputs": [],
   "source": [
    "# Load data\n",
    "filename = \"./data/DATA_CHORUS_0.02.yaml\"\n",
    "with open(filename, \"r\") as file:\n",
    "    input_data = yaml.safe_load(file)\n",
    "x = input_data[\"x\"]\n",
    "Q2 = np.array(input_data[\"Q2\"])\n",
    "F_2 = np.array(input_data[\"F_2\"])\n",
    "F_2_err_stat = np.array(input_data[\"F_2_err_stat\"])\n",
    "F_2_err_sys = np.array(input_data[\"F_2_err_sys\"])\n",
    "F_2_err = F_2_err_stat + F_2_err_stat"
   ]
  },
  {
   "cell_type": "code",
   "execution_count": 6,
   "id": "606153cd",
   "metadata": {},
   "outputs": [
    {
     "name": "stderr",
     "output_type": "stream",
     "text": [
      "2022-04-22 10:01:22.108873: I tensorflow/compiler/mlir/mlir_graph_optimization_pass.cc:116] None of the MLIR optimization passes are enabled (registered 2)\n",
      "2022-04-22 10:01:22.128296: I tensorflow/core/platform/profile_utils/cpu_utils.cc:112] CPU Frequency: 2400000000 Hz\n"
     ]
    },
    {
     "name": "stdout",
     "output_type": "stream",
     "text": [
      "Epoch 00549: early stopping\n",
      "Epoch 00055: early stopping\n",
      "Epoch 00668: early stopping\n",
      "Epoch 00052: early stopping\n",
      "Epoch 00069: early stopping\n",
      "Epoch 00093: early stopping\n",
      "Epoch 00112: early stopping\n",
      "Epoch 00759: early stopping\n",
      "Epoch 00051: early stopping\n",
      "Epoch 00065: early stopping\n"
     ]
    },
    {
     "data": {
      "image/png": "[encoded data removed]",
      "text/plain": [
       "<Figure size 432x288 with 1 Axes>"
      ]
     },
     "metadata": {
      "needs_background": "light"
     },
     "output_type": "display_data"
    }
   ],
   "source": [
    "# Loop over replicas\n",
    "n_rep = 10\n",
    "F_2_reps = create_replicas(F_2, F_2_err, n_rep = n_rep)\n",
    "x_pred = np.linspace(Q2[0], Q2[-1], num=100)\n",
    "y_pred = []\n",
    "\n",
    "for y_data in F_2_reps:\n",
    "    x_tr, y_tr, x_val, y_val = split_trval(Q2, y_data)\n",
    "    model.fit(x_tr, y_tr, validation_data=(x_val ,y_val), epochs=1000, batch_size=10, verbose=0, callbacks=[es])\n",
    "    \n",
    "    y_pred.append(model.predict(x_pred))"
   ]
  },
  {
   "cell_type": "code",
   "execution_count": 18,
   "id": "acc4a70d-f2d6-4db0-b036-d55ada099d04",
   "metadata": {},
   "outputs": [],
   "source": [
    "p1_high = np.nanpercentile(y_pred,84,axis=0)\n",
    "p1_low = np.nanpercentile(y_pred,16,axis=0)\n",
    "p1_mid = (p1_high + p1_low )/2.\n",
    "p1_error = (p1_high - p1_low )/2.\n",
    "\n",
    "p1_mid = p1_mid.reshape(-1)\n",
    "p1_error = p1_error.reshape(-1)"
   ]
  },
  {
   "cell_type": "code",
   "execution_count": 61,
   "id": "7031ff82",
   "metadata": {},
   "outputs": [
    {
     "data": {
      "text/plain": [
       "Text(0.5, 1.0, 'Prediction of $F_2$ at $x=0.02$')"
      ]
     },
     "execution_count": 61,
     "metadata": {},
     "output_type": "execute_result"
    },
    {
     "data": {
      "image/png": "[encoded data removed]",
      "text/plain": [
       "<Figure size 432x288 with 1 Axes>"
      ]
     },
     "metadata": {
      "needs_background": "light"
     },
     "output_type": "display_data"
    }
   ],
   "source": [
    "plt.errorbar(Q2, F_2, yerr=F_2_err, label = \"Data\", fmt=\"ko\", capsize=5)\n",
    "plt.fill_between(x_pred, y1=p1_mid-p1_error, y2=p1_mid+p1_error, color=\"red\", edgecolor=\"red\", label=\"Prediction\", alpha=0.25)\n",
    "plt.plot(x_pred, p1_mid, color=\"red\", linestyle=\"dashed\")\n",
    "plt.legend()\n",
    "plt.xlabel(\"$Q^2$ [GeV$^2$]\")\n",
    "plt.ylabel(\"$F_2$\")\n",
    "plt.title(f\"Prediction of $F_2$ at $x={x}$\")"
   ]
  },
  {
   "cell_type": "code",
   "execution_count": null,
   "id": "f7fff487",
   "metadata": {},
   "outputs": [],
   "source": []
  }
 ],
 "metadata": {
  "kernelspec": {
   "display_name": "nnpdf40",
   "language": "python",
   "name": "nnpdf40"
  },
  "language_info": {
   "codemirror_mode": {
    "name": "ipython",
    "version": 3
   },
   "file_extension": ".py",
   "mimetype": "text/x-python",
   "name": "python",
   "nbconvert_exporter": "python",
   "pygments_lexer": "ipython3",
   "version": "3.9.7"
  }
 },
 "nbformat": 4,
 "nbformat_minor": 5
}
