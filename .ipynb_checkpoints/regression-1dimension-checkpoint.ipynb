{
 "cells": [
  {
   "cell_type": "code",
   "execution_count": null,
   "id": "76b44861-e80b-4e17-8b41-b8507c86d3ba",
   "metadata": {},
   "outputs": [],
   "source": [
    "import numpy as np\n",
    "import matplotlib.pyplot as plt\n",
    "import yaml\n",
    "import tensorflow as tf\n",
    "import tensorflow.keras.backend as K\n",
    "\n",
    "from tensorflow.keras import Sequential\n",
    "from tensorflow.keras.layers import Dense\n",
    "from tensorflow.keras.callbacks import Callback, EarlyStopping\n",
    "\n",
    "%matplotlib inline"
   ]
  },
  {
   "cell_type": "code",
   "execution_count": null,
   "id": "69679c9b",
   "metadata": {},
   "outputs": [],
   "source": [
    "def create_replicas(x_data, x_err, n_rep = 100):\n",
    "    x_dist = np.zeros((n_rep, x_data.shape[0]))\n",
    "    for i, mean in enumerate(x_data):\n",
    "        x_dist[:,i] = np.random.normal(loc=mean, scale=x_err[i], size=n_rep)\n",
    "    return x_dist"
   ]
  },
  {
   "cell_type": "code",
   "execution_count": null,
   "id": "95362c86",
   "metadata": {},
   "outputs": [],
   "source": [
    "def split_trval(x_data, y_data, y_sys, y_stat, perc = 0.3):\n",
    "    size_val = round(len(x_data)*perc)\n",
    "    idx = np.random.choice(np.arange(1, len(x_data)-1, 2), size_val, replace=False)\n",
    "    x_val = x_data[idx]\n",
    "    y_val = y_data[idx]\n",
    "    y_val_sys = y_sys[idx]\n",
    "    y_val_stat = y_stat[idx]\n",
    "    x_tr = np.delete(x_data, idx)\n",
    "    y_tr = np.delete(y_data, idx)\n",
    "    y_tr_sys = np.delete(y_sys, idx)\n",
    "    y_tr_stat = np.delete(y_stat, idx)\n",
    "\n",
    "    return x_tr, y_tr, x_val, y_val, y_tr_sys, y_tr_stat, y_val_sys, y_val_stat"
   ]
  },
  {
   "cell_type": "code",
   "execution_count": null,
   "id": "fd85015b",
   "metadata": {},
   "outputs": [],
   "source": [
    "def load_data():\n",
    "    filename = \"./data/DATA_CHORUS_0.02.yaml\"\n",
    "    with open(filename, \"r\") as file:\n",
    "        input_data = yaml.safe_load(file)\n",
    "    x = input_data[\"x\"]\n",
    "    Q2 = np.array(input_data[\"Q2\"])\n",
    "    F_2 = np.array(input_data[\"F_2\"])\n",
    "    F_2_err_stat = np.array(input_data[\"F_2_err_stat\"])\n",
    "    F_2_err_sys = np.array(input_data[\"F_2_err_sys\"])\n",
    "    F_2_err = F_2_err_stat + F_2_err_sys\n",
    "    \n",
    "    Q2_tr, y_tr, Q2_val, y_val, y_tr_sys, y_tr_stat, y_val_sys, y_val_stat = split_trval(Q2, F_2, F_2_err_sys, F_2_err_stat)\n",
    "    \n",
    "    return {\"x\": x, \"Q2\": Q2, \"y\": F_2, \"y_stat\": F_2_err_stat, \"y_sys\": F_2_err_sys, \"Q2_tr\": Q2_tr, \"y_tr\": y_tr, \"Q2_val\": Q2_val, \"y_val\": y_val, \"y_tr_sys\": y_tr_sys, \"y_tr_stat\": y_tr_stat, \"y_val_sys\": y_val_sys, \"y_val_stat\": y_val_stat}"
   ]
  },
  {
   "cell_type": "code",
   "execution_count": null,
   "id": "674e4f3a",
   "metadata": {},
   "outputs": [],
   "source": [
    "def compute_covmat(data_dict, data_set = \"\"):\n",
    "    data_set = \"y\" + data_set\n",
    "    ndata = data_dict[data_set].shape[0]\n",
    "    covmat = np.zeros((ndata, ndata))\n",
    "    for i in range(ndata):\n",
    "        for j in range(ndata):\n",
    "            covmat[i, j] = (\n",
    "                data_dict[data_set+\"_sys\"][i] * data_dict[data_set+\"_sys\"][j]\n",
    "                + data_dict[data_set][i] * data_dict[data_set][j]\n",
    "            )\n",
    "            if i == j:\n",
    "                covmat[i, j] += data_dict[data_set+\"_stat\"][i] ** 2\n",
    "    \n",
    "    return ndata, covmat"
   ]
  },
  {
   "cell_type": "code",
   "execution_count": null,
   "id": "eb72f4b1",
   "metadata": {},
   "outputs": [],
   "source": [
    "def get_covmat(y_data, y_sys, y_stat):\n",
    "    ndata = y_data.shape[0]\n",
    "    covmat = np.zeros((ndata, ndata))\n",
    "    for i in range(ndata):\n",
    "        for j in range(ndata):\n",
    "            covmat[i, j] = (\n",
    "                y_sys[i] * y_sys[j]\n",
    "                + y_data[i] * y_data[j]\n",
    "            )\n",
    "            if i == j:\n",
    "                covmat[i, j] += y_stat[i] ** 2\n",
    "    \n",
    "    return ndata, covmat"
   ]
  },
  {
   "cell_type": "code",
   "execution_count": null,
   "id": "ae28d19c",
   "metadata": {},
   "outputs": [],
   "source": [
    "covmat_tr.shape, covmat_val.shape"
   ]
  },
  {
   "cell_type": "code",
   "execution_count": null,
   "id": "3d096595",
   "metadata": {},
   "outputs": [],
   "source": [
    "def chi2_with_covmat(covmat_tr, covmat_val, ndata_tr, ndata_val):\n",
    "    inverted_tr = np.linalg.inv(covmat_tr)\n",
    "    inverted_val = np.linalg.inv(covmat_val)\n",
    "    # Convert numpy array into tensorflow object\n",
    "    invcovmat_tr = K.constant(inverted_tr)\n",
    "    invcovmat_val = K.constant(inverted_val)\n",
    "\n",
    "    def costum_loss(y_true, y_pred):\n",
    "        \n",
    "        def custom_loss_tr(y_true, y_pred):\n",
    "            # (yt - yp) * covmat * (yt - yp)\n",
    "            tmp = y_true - y_pred\n",
    "\n",
    "            right_dot = tf.tensordot(invcovmat_tr, K.transpose(tmp), axes=[[1], [1]])\n",
    "            loss = tf.tensordot(tmp, right_dot, axes=[[0],[0]]) / ndata_tr\n",
    "            return loss\n",
    "\n",
    "        def custom_loss_val(y_true, y_pred):\n",
    "            # (yt - yp) * covmat * (yt - yp)\n",
    "            tmp = y_true - y_pred\n",
    "\n",
    "            right_dot = tf.tensordot(invcovmat_val, K.transpose(tmp), axes=[[1], [1]])\n",
    "            loss = tf.tensordot(tmp, right_dot, axes=[[0],[0]]) / ndata_val\n",
    "            return loss\n",
    "        \n",
    "        return K.in_train_phase(custom_loss_tr(y_true, y_pred), custom_loss_val(y_true, y_pred))\n",
    "        \n",
    "\n",
    "    return costum_loss"
   ]
  },
  {
   "cell_type": "code",
   "execution_count": null,
   "id": "35ee782b",
   "metadata": {},
   "outputs": [],
   "source": [
    "data_dict = load_data()"
   ]
  },
  {
   "cell_type": "code",
   "execution_count": null,
   "id": "44edbcca-0105-44da-a9d0-947b4ff446ba",
   "metadata": {},
   "outputs": [],
   "source": [
    "# Create the NN model\n",
    "model = Sequential()\n",
    "model.add(Dense(units = 1, activation = 'linear', input_shape=[1]))\n",
    "model.add(Dense(units = 32, activation = 'relu'))\n",
    "model.add(Dense(units = 32, activation = 'relu'))\n",
    "model.add(Dense(units = 1, activation = 'linear'))\n",
    "\n",
    "ndata_tr, covmat_tr = compute_covmat(data_dict, \"_tr\")\n",
    "ndata_val, covmat_val = compute_covmat(data_dict, \"_val\")\n",
    "model.compile(loss=chi2_with_covmat(covmat_tr, covmat_val, ndata_tr, ndata_val), optimizer=\"adam\", metrics=[\"accuracy\"])\n",
    "model.outputs[0]._uses_learning_phase = True\n",
    "\n",
    "# early stopping\n",
    "es = EarlyStopping(monitor='val_loss', mode='min', verbose=1, patience=50)\n",
    "\n",
    "# Display the model\n",
    "model.summary()"
   ]
  },
  {
   "cell_type": "code",
   "execution_count": null,
   "id": "168cd0db",
   "metadata": {},
   "outputs": [],
   "source": [
    "model.fit(data_dict[\"Q2_tr\"], data_dict[\"y_tr\"], validation_data=(data_dict[\"Q2_val\"], data_dict[\"y_val\"]), epochs=100, verbose=0)"
   ]
  },
  {
   "cell_type": "code",
   "execution_count": null,
   "id": "e438693a",
   "metadata": {},
   "outputs": [],
   "source": [
    "data = np.array([1,2,3,4])\n",
    "y_true = K.constant([2,3])\n",
    "\n",
    "mask = []\n",
    "for y in y_true:\n",
    "    mask.append(np.where(y == data)[0][0])\n",
    "mask"
   ]
  },
  {
   "cell_type": "code",
   "execution_count": null,
   "id": "0d2e2dee",
   "metadata": {},
   "outputs": [],
   "source": [
    "Q2_grid = np.linspace(data_dict[\"Q2\"][0], data_dict[\"Q2\"][-1], 100)\n",
    "y_pred = model.predict(Q2_grid)\n",
    "\n",
    "plt.plot(Q2_grid, y_pred)\n",
    "plt.scatter(data_dict[\"Q2\"], data_dict[\"y\"])"
   ]
  },
  {
   "cell_type": "code",
   "execution_count": null,
   "id": "606153cd",
   "metadata": {},
   "outputs": [],
   "source": [
    "# Loop over replicas\n",
    "n_rep = 10\n",
    "F_2_reps = create_replicas(F_2, F_2_err, n_rep = n_rep)\n",
    "x_pred = np.linspace(Q2[0], Q2[-1], num=100)\n",
    "y_pred = []\n",
    "\n",
    "for y_data in F_2_reps:\n",
    "    x_tr, y_tr, x_val, y_val = split_trval(Q2, y_data)\n",
    "    model.fit(x_tr, y_tr, validation_data=(x_val ,y_val), epochs=1000, batch_size=10, verbose=0, callbacks=[es])\n",
    "    \n",
    "    y_pred.append(model.predict(x_pred))"
   ]
  },
  {
   "cell_type": "code",
   "execution_count": null,
   "id": "acc4a70d-f2d6-4db0-b036-d55ada099d04",
   "metadata": {},
   "outputs": [],
   "source": [
    "p1_high = np.nanpercentile(y_pred,84,axis=0)\n",
    "p1_low = np.nanpercentile(y_pred,16,axis=0)\n",
    "p1_mid = (p1_high + p1_low )/2.\n",
    "p1_error = (p1_high - p1_low )/2.\n",
    "\n",
    "p1_mid = p1_mid.reshape(-1)\n",
    "p1_error = p1_error.reshape(-1)"
   ]
  },
  {
   "cell_type": "code",
   "execution_count": null,
   "id": "7031ff82",
   "metadata": {},
   "outputs": [],
   "source": [
    "plt.errorbar(Q2, F_2, yerr=F_2_err, label = \"Data\", fmt=\"ko\", capsize=5)\n",
    "plt.fill_between(x_pred, y1=p1_mid-p1_error, y2=p1_mid+p1_error, color=\"red\", edgecolor=\"red\", label=\"Prediction\", alpha=0.25)\n",
    "plt.plot(x_pred, p1_mid, color=\"red\", linestyle=\"dashed\")\n",
    "plt.legend()\n",
    "plt.xlabel(\"$Q^2$ [GeV$^2$]\")\n",
    "plt.ylabel(\"$F_2$\")\n",
    "plt.title(f\"Prediction of $F_2$ at $x={x}$\")"
   ]
  },
  {
   "cell_type": "code",
   "execution_count": null,
   "id": "f7fff487",
   "metadata": {},
   "outputs": [],
   "source": []
  }
 ],
 "metadata": {
  "kernelspec": {
   "display_name": "nnpdf40",
   "language": "python",
   "name": "nnpdf40"
  },
  "language_info": {
   "codemirror_mode": {
    "name": "ipython",
    "version": 3
   },
   "file_extension": ".py",
   "mimetype": "text/x-python",
   "name": "python",
   "nbconvert_exporter": "python",
   "pygments_lexer": "ipython3",
   "version": "3.9.7"
  }
 },
 "nbformat": 4,
 "nbformat_minor": 5
}
