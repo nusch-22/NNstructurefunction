{
 "cells": [
  {
   "cell_type": "code",
   "execution_count": 3,
   "id": "c3cda0e8",
   "metadata": {},
   "outputs": [
    {
     "data": {
      "text/html": [
       "        <script type=\"text/javascript\">\n",
       "        window.PlotlyConfig = {MathJaxConfig: 'local'};\n",
       "        if (window.MathJax) {MathJax.Hub.Config({SVG: {font: \"STIX-Web\"}});}\n",
       "        if (typeof require !== 'undefined') {\n",
       "        require.undef(\"plotly\");\n",
       "        requirejs.config({\n",
       "            paths: {\n",
       "                'plotly': ['https://cdn.plot.ly/plotly-2.9.0.min']\n",
       "            }\n",
       "        });\n",
       "        require(['plotly'], function(Plotly) {\n",
       "            window._Plotly = Plotly;\n",
       "        });\n",
       "        }\n",
       "        </script>\n",
       "        "
      ]
     },
     "metadata": {},
     "output_type": "display_data"
    },
    {
     "name": "stdout",
     "output_type": "stream",
     "text": [
      "tensorflow 2.4.1\n",
      "plotly 5.6.0\n"
     ]
    }
   ],
   "source": [
    "import numpy as np\n",
    "import tensorflow as tf\n",
    "import plotly\n",
    "#from tensorflow.examples.tutorials.mnist import input_data\n",
    "from plotly.offline import download_plotlyjs, init_notebook_mode, plot, iplot\n",
    "import plotly.graph_objs as go\n",
    "init_notebook_mode(connected=True)\n",
    "from plotly import tools\n",
    "print (\"tensorflow {}\".format(tf.__version__))\n",
    "print (\"plotly {}\".format(plotly.__version__))"
   ]
  },
  {
   "cell_type": "code",
   "execution_count": 5,
   "id": "6c02977d",
   "metadata": {},
   "outputs": [
    {
     "ename": "AttributeError",
     "evalue": "module 'tensorflow' has no attribute 'glorot_normal_initializer'",
     "output_type": "error",
     "traceback": [
      "\u001b[0;31m---------------------------------------------------------------------------\u001b[0m",
      "\u001b[0;31mAttributeError\u001b[0m                            Traceback (most recent call last)",
      "\u001b[0;32m/tmp/ipykernel_27940/920754907.py\u001b[0m in \u001b[0;36m<module>\u001b[0;34m\u001b[0m\n\u001b[1;32m      9\u001b[0m \u001b[0;34m\u001b[0m\u001b[0m\n\u001b[1;32m     10\u001b[0m \u001b[0;31m# glorot or Xavier initalizations\u001b[0m\u001b[0;34m\u001b[0m\u001b[0;34m\u001b[0m\u001b[0m\n\u001b[0;32m---> 11\u001b[0;31m \u001b[0;34m{\u001b[0m\u001b[0;34m\"type\"\u001b[0m\u001b[0;34m:\u001b[0m\u001b[0mtf\u001b[0m\u001b[0;34m.\u001b[0m\u001b[0mglorot_normal_initializer\u001b[0m\u001b[0;34m(\u001b[0m\u001b[0;34m)\u001b[0m\u001b[0;34m,\u001b[0m \u001b[0;34m\"name\"\u001b[0m\u001b[0;34m:\u001b[0m\u001b[0;34m\"glorot_normal\"\u001b[0m\u001b[0;34m}\u001b[0m\u001b[0;34m,\u001b[0m\u001b[0;34m\u001b[0m\u001b[0;34m\u001b[0m\u001b[0m\n\u001b[0m\u001b[1;32m     12\u001b[0m \u001b[0;34m{\u001b[0m\u001b[0;34m\"type\"\u001b[0m\u001b[0;34m:\u001b[0m\u001b[0mtf\u001b[0m\u001b[0;34m.\u001b[0m\u001b[0mglorot_uniform_initializer\u001b[0m\u001b[0;34m(\u001b[0m\u001b[0;34m)\u001b[0m\u001b[0;34m,\u001b[0m \u001b[0;34m\"name\"\u001b[0m\u001b[0;34m:\u001b[0m\u001b[0;34m\"glorot_uniform\"\u001b[0m\u001b[0;34m}\u001b[0m\u001b[0;34m,\u001b[0m\u001b[0;34m\u001b[0m\u001b[0;34m\u001b[0m\u001b[0m\n\u001b[1;32m     13\u001b[0m \u001b[0;34m\u001b[0m\u001b[0m\n",
      "\u001b[0;31mAttributeError\u001b[0m: module 'tensorflow' has no attribute 'glorot_normal_initializer'"
     ]
    }
   ],
   "source": [
    "initializers = [\n",
    "# we start with the no brainer zeros and ones and constants\n",
    "{\"type\":tf.zeros_initializer(), \"name\":\"zeros\"},\n",
    "{\"type\":tf.ones_initializer(), \"name\":\"ones\"},\n",
    "    \n",
    "# random distributions\n",
    "{\"type\":tf.random_normal_initializer(mean=0.0,stddev=1.0), \"name\":\"random_normal\"},\n",
    "{\"type\":tf.random_uniform_initializer(minval=0,maxval=1.0), \"name\":\"random_uniform\"},\n",
    "    \n",
    "# glorot or Xavier initalizations\n",
    "{\"type\":tf.glorot_normal_initializer(), \"name\":\"glorot_normal\"},\n",
    "{\"type\":tf.glorot_uniform_initializer(), \"name\":\"glorot_uniform\"},\n",
    "    \n",
    "# others\n",
    "{\"type\":tf.orthogonal_initializer(gain=1.0), \"name\":\"orthogonal\"},\n",
    "{\"type\":tf.initializers.identity(gain=1.0), \"name\":\"identity\"}  \n",
    "]\n",
    "\n",
    "# add a loss list and value list to each entry in the list\n",
    "for entry in initializers:\n",
    "    entry[\"loss\"] = [] \n",
    "    entry[\"value\"] = [] "
   ]
  },
  {
   "cell_type": "code",
   "execution_count": 4,
   "id": "90fd42a6",
   "metadata": {},
   "outputs": [],
   "source": [
    "tensor_dim_0 = 100\n",
    "tensor_dim_1 = 100"
   ]
  },
  {
   "cell_type": "code",
   "execution_count": null,
   "id": "3c6b0dff",
   "metadata": {},
   "outputs": [],
   "source": []
  }
 ],
 "metadata": {
  "kernelspec": {
   "display_name": "nnpdf40",
   "language": "python",
   "name": "nnpdf40"
  },
  "language_info": {
   "codemirror_mode": {
    "name": "ipython",
    "version": 3
   },
   "file_extension": ".py",
   "mimetype": "text/x-python",
   "name": "python",
   "nbconvert_exporter": "python",
   "pygments_lexer": "ipython3",
   "version": "3.9.12"
  }
 },
 "nbformat": 4,
 "nbformat_minor": 5
}
