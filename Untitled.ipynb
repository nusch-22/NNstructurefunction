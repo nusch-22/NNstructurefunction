{
 "cells": [
  {
   "cell_type": "code",
   "execution_count": 1,
   "id": "c3cda0e8",
   "metadata": {},
   "outputs": [],
   "source": [
    "import numpy as np\n",
    "import matplotlib.pyplot as plt\n",
    "from scipy.optimize import curve_fit"
   ]
  },
  {
   "cell_type": "code",
   "execution_count": 41,
   "id": "90fd42a6",
   "metadata": {},
   "outputs": [],
   "source": [
    "xdata = np.linspace(-10, 10, 10)\n",
    "ydata = xdata + np.random.normal(scale=2, size=xdata.shape)"
   ]
  },
  {
   "cell_type": "code",
   "execution_count": 42,
   "id": "6c02977d",
   "metadata": {},
   "outputs": [
    {
     "data": {
      "text/plain": [
       "[<matplotlib.lines.Line2D at 0x7f977ecd86d0>]"
      ]
     },
     "execution_count": 42,
     "metadata": {},
     "output_type": "execute_result"
    },
    {
     "data": {
      "image/png": "[encoded data removed]",
      "text/plain": [
       "<Figure size 432x288 with 1 Axes>"
      ]
     },
     "metadata": {
      "needs_background": "light"
     },
     "output_type": "display_data"
    }
   ],
   "source": [
    "plt.plot(xdata, ydata, 'o')"
   ]
  },
  {
   "cell_type": "code",
   "execution_count": 43,
   "id": "3c6b0dff",
   "metadata": {},
   "outputs": [],
   "source": [
    "linear = lambda x, a, b: a*x + b\n",
    "poly = lambda x, a, b, c, d, e, f, g: g*x**6 + a*x**5 + b*x**5 + c*x**3 + d*x**2 + e*x + f"
   ]
  },
  {
   "cell_type": "code",
   "execution_count": 46,
   "id": "89a61c9a",
   "metadata": {},
   "outputs": [],
   "source": [
    "params_lin, pcov_lin = curve_fit(linear, xdata, ydata)\n",
    "params_poly, pcov_poly = curve_fit(poly, xdata, ydata)"
   ]
  },
  {
   "cell_type": "code",
   "execution_count": 45,
   "id": "53071a35",
   "metadata": {},
   "outputs": [
    {
     "data": {
      "text/plain": [
       "<matplotlib.legend.Legend at 0x7f977ee28c70>"
      ]
     },
     "execution_count": 45,
     "metadata": {},
     "output_type": "execute_result"
    },
    {
     "data": {
      "image/png": "[encoded data removed]",
      "text/plain": [
       "<Figure size 432x288 with 1 Axes>"
      ]
     },
     "metadata": {
      "needs_background": "light"
     },
     "output_type": "display_data"
    }
   ],
   "source": [
    "xgrid = np.linspace(xdata[0], xdata[-1], 100)\n",
    "fit_lin = linear(xgrid, *params_lin)\n",
    "fit_poly = poly(xgrid, *params_poly)\n",
    "plt.plot(xdata, ydata, 'o', label='data')\n",
    "plt.plot(xgrid, fit_lin, '-', label='linear fit')\n",
    "plt.plot(xgrid, fit_poly, '-', label='polynomial fit')\n",
    "plt.legend()"
   ]
  },
  {
   "cell_type": "code",
   "execution_count": 47,
   "id": "ba9c7cbd",
   "metadata": {},
   "outputs": [
    {
     "name": "stderr",
     "output_type": "stream",
     "text": [
      "/tmp/ipykernel_6985/1130223137.py:2: RuntimeWarning: invalid value encountered in sqrt\n",
      "  perr_poly = np.sqrt(np.diag(pcov_poly))\n"
     ]
    }
   ],
   "source": [
    "perr_lin = np.sqrt(np.diag(pcov_lin))\n",
    "perr_poly = np.sqrt(np.diag(pcov_poly))"
   ]
  },
  {
   "cell_type": "code",
   "execution_count": 48,
   "id": "070b762c",
   "metadata": {},
   "outputs": [
    {
     "data": {
      "text/plain": [
       "(array([0.07371969, 0.47054153]),\n",
       " array([           nan,            nan, 1.14103213e-02, 3.26201828e-02,\n",
       "        3.22543768e-01, 7.73058506e-01, 4.35001275e-06]))"
      ]
     },
     "execution_count": 48,
     "metadata": {},
     "output_type": "execute_result"
    }
   ],
   "source": [
    "perr_lin, perr_poly"
   ]
  },
  {
   "cell_type": "code",
   "execution_count": 51,
   "id": "04b20984",
   "metadata": {},
   "outputs": [
    {
     "data": {
      "text/plain": [
       "array([0.00543459, 0.22140934])"
      ]
     },
     "execution_count": 51,
     "metadata": {},
     "output_type": "execute_result"
    }
   ],
   "source": [
    "np.diag(pcov_lin)"
   ]
  },
  {
   "cell_type": "code",
   "execution_count": 52,
   "id": "ccdd39eb",
   "metadata": {},
   "outputs": [
    {
     "data": {
      "text/plain": [
       "array([-1.65381627e+06, -1.65381633e+06,  1.30195432e-04,  1.06407632e-03,\n",
       "        1.04034482e-01,  5.97619453e-01,  1.89226109e-11])"
      ]
     },
     "execution_count": 52,
     "metadata": {},
     "output_type": "execute_result"
    }
   ],
   "source": [
    "np.diag(pcov_poly)"
   ]
  },
  {
   "cell_type": "code",
   "execution_count": null,
   "id": "db229aa7",
   "metadata": {},
   "outputs": [],
   "source": []
  }
 ],
 "metadata": {
  "kernelspec": {
   "display_name": "nnpdf40",
   "language": "python",
   "name": "nnpdf40"
  },
  "language_info": {
   "codemirror_mode": {
    "name": "ipython",
    "version": 3
   },
   "file_extension": ".py",
   "mimetype": "text/x-python",
   "name": "python",
   "nbconvert_exporter": "python",
   "pygments_lexer": "ipython3",
   "version": "3.9.12"
  }
 },
 "nbformat": 4,
 "nbformat_minor": 5
}
