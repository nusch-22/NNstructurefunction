{
 "cells": [
  {
   "cell_type": "code",
   "execution_count": 1,
   "metadata": {},
   "outputs": [],
   "source": [
    "import numpy as np\n",
    "import matplotlib.pyplot as plt\n",
    "import yaml\n",
    "import os\n",
    "\n",
    "from tensorflow.keras import Sequential\n",
    "from tensorflow.keras.layers import Dense\n",
    "from tensorflow.keras.callbacks import Callback, EarlyStopping\n",
    "\n",
    "%matplotlib inline"
   ]
  },
  {
   "cell_type": "code",
   "execution_count": 104,
   "metadata": {},
   "outputs": [],
   "source": [
    "Q2_cut = 100"
   ]
  },
  {
   "cell_type": "code",
   "execution_count": 105,
   "metadata": {},
   "outputs": [],
   "source": [
    "def split_trval(x_data, y_data, perc = 0.3):\n",
    "    size_val = round(x_data.shape[0]*perc)\n",
    "    if size_val > 0:\n",
    "        idx = np.random.choice(np.arange(1, x_data.shape[0]-1, 2), size_val, replace=False)\n",
    "        x_val = x_data[idx]\n",
    "        y_val = y_data[idx]\n",
    "        x_tr = np.delete(x_data, idx, axis = 0)\n",
    "        y_tr = np.delete(y_data, idx)\n",
    "    else:\n",
    "        x_tr = x_data\n",
    "        y_tr = y_data\n",
    "        x_val = None\n",
    "        y_val = None\n",
    "    return x_tr, y_tr, x_val, y_val, size_val"
   ]
  },
  {
   "cell_type": "code",
   "execution_count": 143,
   "metadata": {},
   "outputs": [
    {
     "name": "stdout",
     "output_type": "stream",
     "text": [
      "(6, 2)\n",
      "(6,)\n"
     ]
    }
   ],
   "source": [
    "# Load data\n",
    "filenames = os.listdir(\"./data\")\n",
    "filenames = [\"DATA_CHORUS_0.02.yaml\"]\n",
    "\n",
    "for i, filename in enumerate(filenames):\n",
    "    with open(\"./data/\" + filename, \"r\") as file:\n",
    "        input_data = yaml.safe_load(file)\n",
    "    \n",
    "    x = input_data[\"x\"]\n",
    "    Q2 = np.array(input_data[\"Q2\"])\n",
    "    F_2 = np.array(input_data[\"F_2\"])\n",
    "    \n",
    "    Q2_mask = np.where(Q2<Q2_cut)\n",
    "    Q2 = Q2[Q2_mask]\n",
    "    F_2 = F_2[Q2_mask]\n",
    "    \n",
    "    if i == 0:\n",
    "        x_data = np.zeros((len(Q2), 2))\n",
    "        x_data[:, 0] = x\n",
    "        x_data[:, 1] = Q2 \n",
    "        y_data = F_2\n",
    "        x_tr, y_tr, x_val, y_val, size_val = split_trval(x_data, y_data)\n",
    "    else:\n",
    "        x_data = np.zeros((len(Q2), 2))\n",
    "        x_data[:, 0] = x\n",
    "        x_data[:, 1] = Q2 \n",
    "        y_data = F_2\n",
    "        x_tr_new, y_tr_new, x_val_new, y_val_new, size_val = split_trval(x_data, y_data)\n",
    "        \n",
    "        x_tr = np.concatenate([x_tr, x_tr_new], axis = 0)\n",
    "        y_tr = np.concatenate([y_tr, y_tr_new], axis = 0)\n",
    "        if size_val != 0:\n",
    "            x_val = np.concatenate([x_val, x_val_new], axis = 0)\n",
    "            y_val = np.concatenate([y_val, y_val_new], axis = 0)\n",
    "\n",
    "print(x_data.shape)\n",
    "print(y_data.shape)"
   ]
  },
  {
   "cell_type": "code",
   "execution_count": 144,
   "metadata": {},
   "outputs": [
    {
     "name": "stdout",
     "output_type": "stream",
     "text": [
      "Model: \"sequential_8\"\n",
      "_________________________________________________________________\n",
      "Layer (type)                 Output Shape              Param #   \n",
      "=================================================================\n",
      "dense_32 (Dense)             (None, 1)                 3         \n",
      "_________________________________________________________________\n",
      "dense_33 (Dense)             (None, 32)                64        \n",
      "_________________________________________________________________\n",
      "dense_34 (Dense)             (None, 32)                1056      \n",
      "_________________________________________________________________\n",
      "dense_35 (Dense)             (None, 1)                 33        \n",
      "=================================================================\n",
      "Total params: 1,156\n",
      "Trainable params: 1,156\n",
      "Non-trainable params: 0\n",
      "_________________________________________________________________\n"
     ]
    }
   ],
   "source": [
    "# Create the NN model\n",
    "model = Sequential()\n",
    "model.add(Dense(units = 1, activation = 'linear', input_shape=[2]))\n",
    "model.add(Dense(units = 32, activation = 'relu'))\n",
    "model.add(Dense(units = 32, activation = 'relu'))\n",
    "model.add(Dense(units = 1, activation = 'linear'))\n",
    "model.compile(loss='mse', optimizer=\"adam\", metrics=[\"accuracy\"])\n",
    "\n",
    "# Display the model\n",
    "model.summary()"
   ]
  },
  {
   "cell_type": "code",
   "execution_count": 147,
   "metadata": {},
   "outputs": [
    {
     "name": "stdout",
     "output_type": "stream",
     "text": [
      "Epoch 1/1000\n",
      "4/4 [==============================] - 0s 24ms/step - loss: 6.8655e-05 - accuracy: 0.0000e+00 - val_loss: 1.7098e-04 - val_accuracy: 0.0000e+00\n",
      "Epoch 2/1000\n",
      "4/4 [==============================] - 0s 24ms/step - loss: 3.9014e-05 - accuracy: 0.0000e+00 - val_loss: 4.1092e-04 - val_accuracy: 0.0000e+00\n",
      "Epoch 3/1000\n",
      "4/4 [==============================] - 0s 24ms/step - loss: 1.1761e-04 - accuracy: 0.0000e+00 - val_loss: 3.1075e-04 - val_accuracy: 0.0000e+00\n",
      "Epoch 4/1000\n",
      "4/4 [==============================] - 0s 23ms/step - loss: 2.3929e-05 - accuracy: 0.0000e+00 - val_loss: 1.7595e-04 - val_accuracy: 0.0000e+00\n",
      "Epoch 5/1000\n",
      "4/4 [==============================] - 0s 24ms/step - loss: 1.0069e-04 - accuracy: 0.0000e+00 - val_loss: 9.8326e-05 - val_accuracy: 0.0000e+00\n",
      "Epoch 6/1000\n",
      "4/4 [==============================] - 0s 24ms/step - loss: 2.5743e-04 - accuracy: 0.0000e+00 - val_loss: 2.2246e-04 - val_accuracy: 0.0000e+00\n",
      "Epoch 7/1000\n",
      "4/4 [==============================] - 0s 23ms/step - loss: 9.4444e-05 - accuracy: 0.0000e+00 - val_loss: 2.2794e-04 - val_accuracy: 0.0000e+00\n",
      "Epoch 8/1000\n",
      "4/4 [==============================] - 0s 23ms/step - loss: 5.9840e-05 - accuracy: 0.0000e+00 - val_loss: 2.6422e-04 - val_accuracy: 0.0000e+00\n",
      "Epoch 9/1000\n",
      "4/4 [==============================] - 0s 22ms/step - loss: 4.9373e-05 - accuracy: 0.0000e+00 - val_loss: 1.5102e-04 - val_accuracy: 0.0000e+00\n",
      "Epoch 10/1000\n",
      "4/4 [==============================] - 0s 23ms/step - loss: 1.2074e-05 - accuracy: 0.0000e+00 - val_loss: 1.2245e-04 - val_accuracy: 0.0000e+00\n",
      "Epoch 11/1000\n",
      "4/4 [==============================] - 0s 25ms/step - loss: 4.7444e-05 - accuracy: 0.0000e+00 - val_loss: 1.6602e-04 - val_accuracy: 0.0000e+00\n",
      "Epoch 12/1000\n",
      "4/4 [==============================] - 0s 24ms/step - loss: 1.1429e-05 - accuracy: 0.0000e+00 - val_loss: 2.3580e-04 - val_accuracy: 0.0000e+00\n",
      "Epoch 13/1000\n",
      "4/4 [==============================] - 0s 22ms/step - loss: 8.9683e-06 - accuracy: 0.0000e+00 - val_loss: 1.7065e-04 - val_accuracy: 0.0000e+00\n",
      "Epoch 14/1000\n",
      "4/4 [==============================] - 0s 23ms/step - loss: 1.1555e-05 - accuracy: 0.0000e+00 - val_loss: 1.5045e-04 - val_accuracy: 0.0000e+00\n",
      "Epoch 15/1000\n",
      "4/4 [==============================] - 0s 23ms/step - loss: 3.3410e-06 - accuracy: 0.0000e+00 - val_loss: 1.6006e-04 - val_accuracy: 0.0000e+00\n",
      "Epoch 16/1000\n",
      "4/4 [==============================] - 0s 26ms/step - loss: 1.0999e-06 - accuracy: 0.0000e+00 - val_loss: 1.7051e-04 - val_accuracy: 0.0000e+00\n",
      "Epoch 17/1000\n",
      "4/4 [==============================] - 0s 23ms/step - loss: 3.0372e-06 - accuracy: 0.0000e+00 - val_loss: 1.7719e-04 - val_accuracy: 0.0000e+00\n",
      "Epoch 18/1000\n",
      "4/4 [==============================] - 0s 24ms/step - loss: 4.8526e-07 - accuracy: 0.0000e+00 - val_loss: 1.7482e-04 - val_accuracy: 0.0000e+00\n",
      "Epoch 19/1000\n",
      "4/4 [==============================] - 0s 25ms/step - loss: 2.0154e-06 - accuracy: 0.0000e+00 - val_loss: 1.5914e-04 - val_accuracy: 0.0000e+00\n",
      "Epoch 20/1000\n",
      "4/4 [==============================] - 0s 23ms/step - loss: 2.3981e-06 - accuracy: 0.0000e+00 - val_loss: 1.6483e-04 - val_accuracy: 0.0000e+00\n",
      "Epoch 21/1000\n",
      "4/4 [==============================] - 0s 26ms/step - loss: 2.4327e-07 - accuracy: 0.0000e+00 - val_loss: 1.7667e-04 - val_accuracy: 0.0000e+00\n",
      "Epoch 22/1000\n",
      "4/4 [==============================] - 0s 27ms/step - loss: 2.1036e-06 - accuracy: 0.0000e+00 - val_loss: 1.6475e-04 - val_accuracy: 0.0000e+00\n",
      "Epoch 23/1000\n",
      "4/4 [==============================] - 0s 27ms/step - loss: 3.0684e-06 - accuracy: 0.0000e+00 - val_loss: 1.6908e-04 - val_accuracy: 0.0000e+00\n",
      "Epoch 24/1000\n",
      "4/4 [==============================] - 0s 24ms/step - loss: 4.9802e-07 - accuracy: 0.0000e+00 - val_loss: 1.7517e-04 - val_accuracy: 0.0000e+00\n",
      "Epoch 25/1000\n",
      "4/4 [==============================] - 0s 32ms/step - loss: 6.1494e-07 - accuracy: 0.0000e+00 - val_loss: 1.6655e-04 - val_accuracy: 0.0000e+00\n",
      "Epoch 26/1000\n",
      "4/4 [==============================] - 0s 28ms/step - loss: 8.5827e-07 - accuracy: 0.0000e+00 - val_loss: 1.6756e-04 - val_accuracy: 0.0000e+00\n",
      "Epoch 27/1000\n",
      "4/4 [==============================] - 0s 32ms/step - loss: 5.5267e-07 - accuracy: 0.0000e+00 - val_loss: 1.7499e-04 - val_accuracy: 0.0000e+00\n",
      "Epoch 28/1000\n",
      "4/4 [==============================] - 0s 29ms/step - loss: 3.0197e-07 - accuracy: 0.0000e+00 - val_loss: 1.7060e-04 - val_accuracy: 0.0000e+00\n",
      "Epoch 29/1000\n",
      "4/4 [==============================] - 0s 27ms/step - loss: 2.6241e-07 - accuracy: 0.0000e+00 - val_loss: 1.6751e-04 - val_accuracy: 0.0000e+00\n",
      "Epoch 30/1000\n",
      "4/4 [==============================] - 0s 22ms/step - loss: 2.2447e-08 - accuracy: 0.0000e+00 - val_loss: 1.6892e-04 - val_accuracy: 0.0000e+00\n",
      "Epoch 31/1000\n",
      "4/4 [==============================] - 0s 22ms/step - loss: 2.7025e-07 - accuracy: 0.0000e+00 - val_loss: 1.6771e-04 - val_accuracy: 0.0000e+00\n",
      "Epoch 32/1000\n",
      "4/4 [==============================] - 0s 21ms/step - loss: 3.8243e-07 - accuracy: 0.0000e+00 - val_loss: 1.6900e-04 - val_accuracy: 0.0000e+00\n",
      "Epoch 33/1000\n",
      "4/4 [==============================] - 0s 23ms/step - loss: 4.0672e-07 - accuracy: 0.0000e+00 - val_loss: 1.6769e-04 - val_accuracy: 0.0000e+00\n",
      "Epoch 34/1000\n",
      "4/4 [==============================] - 0s 25ms/step - loss: 3.1427e-07 - accuracy: 0.0000e+00 - val_loss: 1.6357e-04 - val_accuracy: 0.0000e+00\n",
      "Epoch 35/1000\n",
      "4/4 [==============================] - 0s 21ms/step - loss: 1.5157e-07 - accuracy: 0.0000e+00 - val_loss: 1.6806e-04 - val_accuracy: 0.0000e+00\n",
      "Epoch 36/1000\n",
      "4/4 [==============================] - 0s 25ms/step - loss: 1.9356e-07 - accuracy: 0.0000e+00 - val_loss: 1.7014e-04 - val_accuracy: 0.0000e+00\n",
      "Epoch 37/1000\n",
      "4/4 [==============================] - 0s 25ms/step - loss: 7.4124e-08 - accuracy: 0.0000e+00 - val_loss: 1.6717e-04 - val_accuracy: 0.0000e+00\n",
      "Epoch 38/1000\n",
      "4/4 [==============================] - 0s 21ms/step - loss: 4.1782e-08 - accuracy: 0.0000e+00 - val_loss: 1.6799e-04 - val_accuracy: 0.0000e+00\n",
      "Epoch 39/1000\n",
      "4/4 [==============================] - 0s 21ms/step - loss: 5.5190e-08 - accuracy: 0.0000e+00 - val_loss: 1.6802e-04 - val_accuracy: 0.0000e+00\n",
      "Epoch 40/1000\n",
      "4/4 [==============================] - 0s 22ms/step - loss: 7.4324e-08 - accuracy: 0.0000e+00 - val_loss: 1.6801e-04 - val_accuracy: 0.0000e+00\n",
      "Epoch 41/1000\n",
      "4/4 [==============================] - 0s 20ms/step - loss: 2.8992e-08 - accuracy: 0.0000e+00 - val_loss: 1.6909e-04 - val_accuracy: 0.0000e+00\n",
      "Epoch 42/1000\n",
      "4/4 [==============================] - 0s 23ms/step - loss: 4.0703e-08 - accuracy: 0.0000e+00 - val_loss: 1.6768e-04 - val_accuracy: 0.0000e+00\n",
      "Epoch 43/1000\n",
      "4/4 [==============================] - 0s 23ms/step - loss: 1.7838e-08 - accuracy: 0.0000e+00 - val_loss: 1.6776e-04 - val_accuracy: 0.0000e+00\n",
      "Epoch 44/1000\n",
      "4/4 [==============================] - 0s 22ms/step - loss: 6.5385e-09 - accuracy: 0.0000e+00 - val_loss: 1.6844e-04 - val_accuracy: 0.0000e+00\n",
      "Epoch 45/1000\n",
      "4/4 [==============================] - 0s 22ms/step - loss: 3.4519e-09 - accuracy: 0.0000e+00 - val_loss: 1.6842e-04 - val_accuracy: 0.0000e+00\n",
      "Epoch 46/1000\n",
      "4/4 [==============================] - 0s 22ms/step - loss: 1.5343e-08 - accuracy: 0.0000e+00 - val_loss: 1.6814e-04 - val_accuracy: 0.0000e+00\n",
      "Epoch 47/1000\n",
      "4/4 [==============================] - 0s 20ms/step - loss: 7.7823e-09 - accuracy: 0.0000e+00 - val_loss: 1.6757e-04 - val_accuracy: 0.0000e+00\n",
      "Epoch 48/1000\n",
      "4/4 [==============================] - 0s 23ms/step - loss: 4.7548e-09 - accuracy: 0.0000e+00 - val_loss: 1.6744e-04 - val_accuracy: 0.0000e+00\n",
      "Epoch 49/1000\n",
      "4/4 [==============================] - 0s 20ms/step - loss: 9.0324e-09 - accuracy: 0.0000e+00 - val_loss: 1.6922e-04 - val_accuracy: 0.0000e+00\n",
      "Epoch 50/1000\n",
      "4/4 [==============================] - 0s 21ms/step - loss: 2.0790e-08 - accuracy: 0.0000e+00 - val_loss: 1.6827e-04 - val_accuracy: 0.0000e+00\n",
      "Epoch 51/1000\n",
      "4/4 [==============================] - 0s 23ms/step - loss: 6.9408e-09 - accuracy: 0.0000e+00 - val_loss: 1.6614e-04 - val_accuracy: 0.0000e+00\n",
      "Epoch 52/1000\n",
      "4/4 [==============================] - 0s 21ms/step - loss: 1.2034e-08 - accuracy: 0.0000e+00 - val_loss: 1.6773e-04 - val_accuracy: 0.0000e+00\n"
     ]
    },
    {
     "name": "stdout",
     "output_type": "stream",
     "text": [
      "Epoch 53/1000\n",
      "4/4 [==============================] - 0s 21ms/step - loss: 6.4010e-09 - accuracy: 0.0000e+00 - val_loss: 1.6879e-04 - val_accuracy: 0.0000e+00\n",
      "Epoch 54/1000\n",
      "4/4 [==============================] - 0s 22ms/step - loss: 6.8791e-09 - accuracy: 0.0000e+00 - val_loss: 1.6830e-04 - val_accuracy: 0.0000e+00\n",
      "Epoch 55/1000\n",
      "4/4 [==============================] - 0s 20ms/step - loss: 8.5399e-10 - accuracy: 0.0000e+00 - val_loss: 1.6740e-04 - val_accuracy: 0.0000e+00\n",
      "Epoch 00055: early stopping\n"
     ]
    },
    {
     "data": {
      "text/plain": [
       "<tensorflow.python.keras.callbacks.History at 0x7f23480d1f70>"
      ]
     },
     "execution_count": 147,
     "metadata": {},
     "output_type": "execute_result"
    }
   ],
   "source": [
    "es = EarlyStopping(monitor='val_loss', mode='min', verbose=1, patience=50)\n",
    "model.fit(x_tr, y_tr, validation_data=(x_val ,y_val), epochs=1000, batch_size=1, verbose=1, callbacks=[es])"
   ]
  },
  {
   "cell_type": "code",
   "execution_count": 148,
   "metadata": {},
   "outputs": [],
   "source": [
    "y_tr_pred = model.predict(x_tr)\n",
    "y_val_pred = model.predict(x_val)"
   ]
  },
  {
   "cell_type": "code",
   "execution_count": 150,
   "metadata": {},
   "outputs": [
    {
     "data": {
      "text/plain": [
       "<matplotlib.legend.Legend at 0x7f2348170910>"
      ]
     },
     "execution_count": 150,
     "metadata": {},
     "output_type": "execute_result"
    },
    {
     "data": {
      "image/png": "[encoded data removed]",
      "text/plain": [
       "<Figure size 432x288 with 1 Axes>"
      ]
     },
     "metadata": {
      "needs_background": "light"
     },
     "output_type": "display_data"
    }
   ],
   "source": [
    "plt.scatter(x_tr[:,1], y_tr, label = \"Training Data\")\n",
    "plt.scatter(x_tr[:,1], y_tr_pred, color = \"red\", label = \"Training Prediction\")\n",
    "plt.scatter(x_val[:,1], y_val, label = \" Validation Data\")\n",
    "plt.scatter(x_val[:,1], y_val_pred, color = \"green\", label = \"Validation Prediction\")\n",
    "plt.legend()"
   ]
  },
  {
   "cell_type": "code",
   "execution_count": null,
   "metadata": {},
   "outputs": [],
   "source": []
  }
 ],
 "metadata": {
  "interpreter": {
   "hash": "51b07192feadff41234e4986821c542e33f28bd852adab907add648296a24759"
  },
  "kernelspec": {
   "display_name": "nnpdf40",
   "language": "python",
   "name": "nnpdf40"
  },
  "language_info": {
   "codemirror_mode": {
    "name": "ipython",
    "version": 3
   },
   "file_extension": ".py",
   "mimetype": "text/x-python",
   "name": "python",
   "nbconvert_exporter": "python",
   "pygments_lexer": "ipython3",
   "version": "3.9.7"
  }
 },
 "nbformat": 4,
 "nbformat_minor": 2
}
